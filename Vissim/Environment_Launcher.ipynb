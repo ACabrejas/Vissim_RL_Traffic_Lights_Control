{
 "cells": [
  {
   "cell_type": "code",
   "execution_count": 5,
   "metadata": {},
   "outputs": [],
   "source": [
    "## General Libraries\n",
    "import numpy as np\n",
    "import matplotlib.pyplot as plt\n",
    "from Utilities import log_progress\n",
    "\n",
    "# Environment Library\n",
    "from Vissim_env_class import environment\n",
    "\n",
    "# Agent Libraries\n",
    "from Actor_critic_class import ACAgent\n",
    "from DQNAgents import DQNAgent\n",
    "\n",
    "# Network Specific Libraries\n",
    "from Balance_Functions import balance_dictionary\n",
    "\n",
    "# Plotting\n",
    "%matplotlib inline"
   ]
  },
  {
   "cell_type": "code",
   "execution_count": 6,
   "metadata": {},
   "outputs": [],
   "source": [
    "## Temporary Executive Control\n",
    "agent_type = 'DQN'\n",
    "vissim_working_directory = 'C:\\\\Users\\\\acabrejasegea\\\\OneDrive - The Alan Turing Institute\\\\Desktop\\\\ATI\\\\0_TMF\\\\MLforFlowOptimisation\\\\Vissim\\\\'\n",
    "\n",
    "\n",
    "\n",
    "\n",
    "# VISSIM CONTROL\n",
    "model_name  = 'Balance'\n",
    "sim_length = 3601\n",
    "timesteps_per_second = 1\n",
    "Random_Seed = 42\n",
    "Balance_dictionary = balance_dictionary(agent_type)\n"
   ]
  },
  {
   "cell_type": "code",
   "execution_count": 7,
   "metadata": {},
   "outputs": [],
   "source": [
    "## DQN Hyperaramenters\n",
    "episodes = 2\n",
    "copy_weights_frequency = 5\n",
    "\n",
    "PER_activated = False\n",
    "memory_size = 100\n",
    "batch_size = 64\n",
    "\n",
    "gamma = 0.95\n",
    "alpha = 0.005"
   ]
  },
  {
   "cell_type": "code",
   "execution_count": 8,
   "metadata": {},
   "outputs": [
    {
     "data": {
      "image/png": "[encoded data removed]",
      "text/plain": [
       "<Figure size 576x324 with 1 Axes>"
      ]
     },
     "metadata": {
      "needs_background": "light"
     },
     "output_type": "display_data"
    }
   ],
   "source": [
    "# Exploration Schedule (\"linear\" or \"geometric\")\n",
    "exploration_schedule = \"geometric\"\n",
    "\n",
    "def choose_schedule(exploration_schedule):\n",
    "    epsilon_start = 1\n",
    "    epsilon_end   = 0.001\n",
    "    if exploration_schedule == \"linear\":\n",
    "        epsilon_decay = 1.2*(epsilon_end - epsilon_start)/(episodes-1)\n",
    "        epsilon_sequence = [1 + epsilon_decay * entry for entry in range(episodes+1)]\n",
    "        epsilon_sequence = [0 if entry < 0 else entry for entry in epsilon_sequence]\n",
    "    elif exploration_schedule == \"geometric\":\n",
    "        epsilon_decay = np.power(epsilon_end/epsilon_start, 1./(episodes-1)) # Geometric decay\n",
    "        epsilon_sequence = [epsilon_start * epsilon_decay ** entry for entry in range(episodes+1)]\n",
    "    elif exploration_schedule == \"entropy\":\n",
    "        pass\n",
    "    else:\n",
    "        print(\"ERROR: Unrecognized choice of exploration schedule.\")\n",
    "        \n",
    "    # Plotting exploration schedule\n",
    "    plt.figure(figsize=(8,4.5))\n",
    "    x_series = np.array(range(1,episodes+1))\n",
    "    y_series = epsilon_sequence[0:episodes]\n",
    "    plt.plot(x_series, y_series, '-b')\n",
    "    plt.xlabel('Episodes')\n",
    "    plt.ylabel('Ratio of random exploration')\n",
    "    plt.title('Exploration schedule')\n",
    "    plt.show()\n",
    "    return(epsilon_sequence)\n",
    "\n",
    "epsilon_sequence = choose_schedule(exploration_schedule)"
   ]
  },
  {
   "cell_type": "code",
   "execution_count": 9,
   "metadata": {},
   "outputs": [
    {
     "name": "stdout",
     "output_type": "stream",
     "text": [
      "Working Directory set to: C:\\Users\\acabrejasegea\\OneDrive - The Alan Turing Institute\\Desktop\\ATI\\0_TMF\\MLforFlowOptimisation\\Vissim\\\n",
      "Generating Cache...\n",
      "Cache generated.\n",
      "\n",
      "****************************\n",
      "*   COM Server dispatched  *\n",
      "****************************\n",
      "\n",
      "Attempting to load Model File: Balance.inpx ...\n",
      "Model File load process successful.\n",
      "Simulation length set to 3601 seconds.\n",
      "Results from Previous Simulations: Deleted. Fresh Start Available.\n",
      "Fetched and containerized Network Object \n",
      "\n",
      "*******************************************************\n",
      "*                                                     *\n",
      "*                COM SETUP COMPLETE                   *\n",
      "*                                                     *\n",
      "*******************************************************\n",
      "\n",
      "Random seed set in simulator. Random Seed = 42\n",
      "Deploying Network Parser...\n",
      "Successful Network Crawl: Identified SignalControllers, Links and Lanes.\n",
      "\n",
      "Setting Simulation mode to: training\n",
      "\n",
      "Starting Deployments of Signal Control Units...\n",
      "SCUs successfully deployed. Elapsed time 0.87 seconds.\n",
      "\n"
     ]
    }
   ],
   "source": [
    "env = environment(model_name, vissim_working_directory, sim_length, Balance_dictionary,\\\n",
    "          Random_Seed, mode = 'training', delete_results = True, verbose = True)"
   ]
  },
  {
   "cell_type": "code",
   "execution_count": 10,
   "metadata": {},
   "outputs": [
    {
     "name": "stdout",
     "output_type": "stream",
     "text": [
      "WARNING:tensorflow:From C:\\Users\\acabrejasegea\\AppData\\Local\\Continuum\\anaconda3\\envs\\vissimgpu\\lib\\site-packages\\tensorflow\\python\\ops\\resource_variable_ops.py:435: colocate_with (from tensorflow.python.framework.ops) is deprecated and will be removed in a future version.\n",
      "Instructions for updating:\n",
      "Colocations handled automatically by placer.\n",
      "WARNING:tensorflow:From C:\\Users\\acabrejasegea\\AppData\\Local\\Continuum\\anaconda3\\envs\\vissimgpu\\lib\\site-packages\\tensorflow\\python\\keras\\utils\\losses_utils.py:170: to_float (from tensorflow.python.ops.math_ops) is deprecated and will be removed in a future version.\n",
      "Instructions for updating:\n",
      "Use tf.cast instead.\n",
      "Deploying instance of Standard Deep Q Learning Agent(s) at intersection 0\n",
      "Deploying instance of Standard Deep Q Learning Agent(s) at intersection 1\n",
      "Deploying instance of Standard Deep Q Learning Agent(s) at intersection 2\n",
      "Deploying instance of Standard Deep Q Learning Agent(s) at intersection 3\n",
      "Deploying instance of Standard Deep Q Learning Agent(s) at intersection 4\n",
      "Deploying instance of Standard Deep Q Learning Agent(s) at intersection 5\n",
      "Deploying instance of Standard Deep Q Learning Agent(s) at intersection 6\n",
      "Deploying instance of Standard Deep Q Learning Agent(s) at intersection 7\n",
      "Deploying instance of Standard Deep Q Learning Agent(s) at intersection 8\n",
      "Deploying instance of Standard Deep Q Learning Agent(s) at intersection 9\n",
      "Deploying instance of Standard Deep Q Learning Agent(s) at intersection 10\n",
      "Deploying instance of Standard Deep Q Learning Agent(s) at intersection 11\n",
      "Deploying instance of Standard Deep Q Learning Agent(s) at intersection 12\n",
      "Deploying instance of Standard Deep Q Learning Agent(s) at intersection 13\n"
     ]
    }
   ],
   "source": [
    "Agents = [DQNAgent(env.SCUs[idx].state_size[0], len(env.SCUs[idx].compatible_actions),\\\n",
    "         ID, memory_size, gamma, epsilon_sequence[0], alpha,copy_weights_frequency, PER_activated,\\\n",
    "         DoubleDQN = True if agent_type == (\"DDQN\" or \"DuelingDDQN\") else False,\\\n",
    "         Dueling = False if agent_type == (\"DQN\" or \"DDQN\") else True) for idx, ID in enumerate(env.npa.signal_controllers_ids)] "
   ]
  },
  {
   "cell_type": "code",
   "execution_count": 11,
   "metadata": {},
   "outputs": [],
   "source": [
    "# Get Initial State\n",
    "start_state = env.get_state()\n",
    "# Get Initial Set of Actions\n",
    "actions = {}\n",
    "for idx, s in start_state.items():\n",
    "            actions[idx] = int(Agents[idx].choose_action(s))\n",
    "\n",
    "## Main loop\n",
    "# For each decision\n",
    "for i in range(80):\n",
    "    SARSDs = env.step_to_next_action(actions)\n",
    "    actions = dict()\n",
    "    for idx , sarsd in SARSDs.items():\n",
    "        s,a,r,ns,d = sarsd\n",
    "        \n",
    "        # Each agent commits to memory the previous cycle.\n",
    "        Agents[idx].remember(s,a,r,ns,d)\n",
    "        \n",
    "        # Only in the ActorCritic case, we can do online learning\n",
    "        if agent_type == \"AC\":\n",
    "            if len(Agents[idx].memory) >= Agents[idx].n_step_size :\n",
    "                Agents[idx].learn() \n",
    "            \n",
    "        # in order to find the next action you need to evaluate the \"next_state\" because it is the current state of the simulator\n",
    "        actions[idx] = int(Agents[idx].choose_action(ns))\n",
    "        #print(actions)\n",
    "        \n",
    "        \n",
    "        if agent_type == \"AC\":\n",
    "        ## This is to be converted into an agent's method.\n",
    "            if (i+1)%reduce_entropy_every == 0:\n",
    "                if Agents[idx].params['entropy'] >= entropy_threshold :\n",
    "                    Agents[idx].reduce_entropy()\n",
    "                    print (\"Agent {} : Entropy reduced to {} \" .format(idx, Agents[idx].params['entropy']))\n",
    "        \n",
    "        \n",
    "    # For the saving , monitoring of the agent \n",
    "    if env.done :\n",
    "        if agent_type == \"DQN\":\n",
    "            for agent in Agents:\n",
    "                agent.learn_batch(batch_size, 1)\n",
    "                print(\"bla!\")\n",
    "        # Here goes all the metrics summary stuff.\n",
    "        print('patate')\n",
    "        env.reset()\n",
    "        \n",
    "        \n",
    "        # Only for AC\n",
    "        for idx, agent in enumerate(Agents):\n",
    "            predicted_values, true_values, proba0, probas = agent.value_check(horizon, n_sample)\n",
    "            print (\"Agent {} : Predicted Values and True Return : \\n {} \\n {}\" .format(idx, predicted_values, true_values))\n",
    "            print (\"Agent {} : Proba distribution on those states : \\n {}\" .format(idx, probas))\n",
    "            print (\"Agent {} : Proba distribution on the 0 state : \\n {}\" .format(idx, proba0))\n",
    "            agent.reset()\n",
    "                    \n",
    "        \n",
    "        for idx, s in start_state.items():\n",
    "            actions[idx] = Agents[idx].choose_action(s)"
   ]
  },
  {
   "cell_type": "code",
   "execution_count": null,
   "metadata": {},
   "outputs": [],
   "source": [
    "# For some unknown reason  nothing is printing in this cell...\n",
    "start_state = env.get_state()\n",
    "actions = {}\n",
    "for idx, s in start_state.items():\n",
    "            actions[idx] = int(Agents[idx].choose_action(s))"
   ]
  },
  {
   "cell_type": "code",
   "execution_count": null,
   "metadata": {},
   "outputs": [],
   "source": [
    "SARSDs = env.step_to_next_action(actions)"
   ]
  },
  {
   "cell_type": "code",
   "execution_count": null,
   "metadata": {},
   "outputs": [],
   "source": [
    "for idx, item in SARSDs.items():\n",
    "    print(idx, item)"
   ]
  },
  {
   "cell_type": "code",
   "execution_count": null,
   "metadata": {},
   "outputs": [],
   "source": [
    "env.reset()"
   ]
  },
  {
   "cell_type": "code",
   "execution_count": null,
   "metadata": {},
   "outputs": [],
   "source": [
    "env.Vissim.Simulation.AttValue('RandSeed')"
   ]
  }
 ],
 "metadata": {
  "kernelspec": {
   "display_name": "Python 3",
   "language": "python",
   "name": "python3"
  },
  "language_info": {
   "codemirror_mode": {
    "name": "ipython",
    "version": 3
   },
   "file_extension": ".py",
   "mimetype": "text/x-python",
   "name": "python",
   "nbconvert_exporter": "python",
   "pygments_lexer": "ipython3",
   "version": "3.8.2"
  }
 },
 "nbformat": 4,
 "nbformat_minor": 2
}
