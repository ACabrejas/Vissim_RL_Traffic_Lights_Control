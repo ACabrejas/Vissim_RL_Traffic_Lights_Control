{
 "cells": [
  {
   "cell_type": "markdown",
   "metadata": {},
   "source": [
    "# Results\n",
    "This notebook is to save the result of our simulations"
   ]
  },
  {
   "cell_type": "code",
   "execution_count": 2,
   "metadata": {},
   "outputs": [],
   "source": [
    "\n",
    "import pandas as pd\n",
    "import pylab as plt\n",
    "import os"
   ]
  },
  {
   "cell_type": "markdown",
   "metadata": {},
   "source": [
    "# Single Cross Straight"
   ]
  },
  {
   "cell_type": "code",
   "execution_count": 3,
   "metadata": {},
   "outputs": [],
   "source": [
    "model_name  = 'Single_Cross_Straight'\n",
    "Result_Path = 'Agents_ResultsSingle'\n",
    "\n"
   ]
  },
  {
   "cell_type": "markdown",
   "metadata": {},
   "source": [
    "Mova"
   ]
  },
  {
   "cell_type": "code",
   "execution_count": 4,
   "metadata": {},
   "outputs": [],
   "source": [
    "Session_ID = \"MOVA\""
   ]
  },
  {
   "cell_type": "code",
   "execution_count": 5,
   "metadata": {
    "scrolled": true
   },
   "outputs": [],
   "source": [
    "csv_delayPath = os.path.join(Result_Path, Session_ID,\\\n",
    "                        \"Total_Cumulative_Delay.csv\")  \n",
    "csv_stopPath = os.path.join(Result_Path, Session_ID,\\\n",
    "                        \"Total_Cumulative_stop_Delay.csv\")  \n",
    "\n",
    "Global_accumulated_delay = pd.read_csv(csv_delayPath)\n",
    "Global_accumulated_stop_delay = pd.read_csv(csv_stopPath)\n"
   ]
  },
  {
   "cell_type": "code",
   "execution_count": 6,
   "metadata": {},
   "outputs": [],
   "source": [
    "\n",
    "SCScumulative_delay = pd.DataFrame()\n",
    "SCScumulative_stop_delay = pd.DataFrame()"
   ]
  },
  {
   "cell_type": "code",
   "execution_count": 7,
   "metadata": {},
   "outputs": [],
   "source": [
    "SCScumulative_delay['Time'] = Global_accumulated_delay['Time']\n",
    "SCScumulative_stop_delay['Time'] = Global_accumulated_stop_delay['Time']"
   ]
  },
  {
   "cell_type": "code",
   "execution_count": 8,
   "metadata": {},
   "outputs": [],
   "source": [
    "SCScumulative_delay['MOVA Delay'] = Global_accumulated_delay['Global accumulated Delay']\n",
    "SCScumulative_stop_delay['MOVA Stop Delay'] = Global_accumulated_stop_delay['Global accumulated stop Delay']"
   ]
  },
  {
   "cell_type": "markdown",
   "metadata": {},
   "source": [
    "Surtrac"
   ]
  },
  {
   "cell_type": "code",
   "execution_count": 9,
   "metadata": {},
   "outputs": [],
   "source": [
    "Session_ID = \"Surtrac\""
   ]
  },
  {
   "cell_type": "code",
   "execution_count": 10,
   "metadata": {},
   "outputs": [],
   "source": [
    "csv_delayPath = os.path.join(Result_Path, Session_ID,\\\n",
    "                        \"Total_Cumulative_Delay.csv\")  \n",
    "csv_stopPath = os.path.join(Result_Path, Session_ID,\\\n",
    "                        \"Total_Cumulative_stop_Delay.csv\")  \n",
    "\n",
    "Global_accumulated_delay = pd.read_csv(csv_delayPath)\n",
    "Global_accumulated_stop_delay = pd.read_csv(csv_stopPath)"
   ]
  },
  {
   "cell_type": "code",
   "execution_count": 11,
   "metadata": {},
   "outputs": [],
   "source": [
    "SCScumulative_delay['Surtrac Delay'] = Global_accumulated_delay['Global accumulated Delay']\n",
    "SCScumulative_stop_delay['Surtrac Stop Delay'] = Global_accumulated_stop_delay['Global accumulated stop Delay']"
   ]
  },
  {
   "cell_type": "markdown",
   "metadata": {},
   "source": [
    "Cyclic"
   ]
  },
  {
   "cell_type": "code",
   "execution_count": 12,
   "metadata": {},
   "outputs": [],
   "source": [
    "Session_ID = \"Cyclic\""
   ]
  },
  {
   "cell_type": "code",
   "execution_count": 13,
   "metadata": {},
   "outputs": [],
   "source": [
    "csv_delayPath = os.path.join(Result_Path, Session_ID,\\\n",
    "                        \"Total_Cumulative_Delay.csv\")  \n",
    "csv_stopPath = os.path.join(Result_Path, Session_ID,\\\n",
    "                        \"Total_Cumulative_stop_Delay.csv\")  \n",
    "\n",
    "Global_accumulated_delay = pd.read_csv(csv_delayPath)\n",
    "Global_accumulated_stop_delay = pd.read_csv(csv_stopPath)"
   ]
  },
  {
   "cell_type": "code",
   "execution_count": 14,
   "metadata": {},
   "outputs": [],
   "source": [
    "SCScumulative_delay['Cyclic90 Delay'] = Global_accumulated_delay['Global accumulated Delay']\n",
    "SCScumulative_stop_delay['Cyclic90 Stop Delay'] = Global_accumulated_stop_delay['Global accumulated stop Delay']"
   ]
  },
  {
   "cell_type": "code",
   "execution_count": 15,
   "metadata": {},
   "outputs": [],
   "source": [
    "Session_ID = \"Cyclic_optimised_500_24s\""
   ]
  },
  {
   "cell_type": "code",
   "execution_count": 16,
   "metadata": {},
   "outputs": [],
   "source": [
    "csv_delayPath = os.path.join(Result_Path, Session_ID,\\\n",
    "                        \"Total_Cumulative_Delay.csv\")  \n",
    "csv_stopPath = os.path.join(Result_Path, Session_ID,\\\n",
    "                        \"Total_Cumulative_stop_Delay.csv\")  \n",
    "\n",
    "Global_accumulated_delay = pd.read_csv(csv_delayPath)\n",
    "Global_accumulated_stop_delay = pd.read_csv(csv_stopPath)"
   ]
  },
  {
   "cell_type": "code",
   "execution_count": 17,
   "metadata": {},
   "outputs": [],
   "source": [
    "SCScumulative_delay['Cyclic24 Delay'] = Global_accumulated_delay['Global accumulated Delay']\n",
    "SCScumulative_stop_delay['Cyclic24 Stop Delay'] = Global_accumulated_stop_delay['Global accumulated stop Delay']"
   ]
  },
  {
   "cell_type": "code",
   "execution_count": 18,
   "metadata": {},
   "outputs": [],
   "source": [
    "Session_ID = \"Cyclic_optimised_600_32s\""
   ]
  },
  {
   "cell_type": "code",
   "execution_count": 19,
   "metadata": {},
   "outputs": [],
   "source": [
    "csv_delayPath = os.path.join(Result_Path, Session_ID,\\\n",
    "                        \"Total_Cumulative_Delay.csv\")  \n",
    "csv_stopPath = os.path.join(Result_Path, Session_ID,\\\n",
    "                        \"Total_Cumulative_stop_Delay.csv\")  \n",
    "\n",
    "Global_accumulated_delay = pd.read_csv(csv_delayPath)\n",
    "Global_accumulated_stop_delay = pd.read_csv(csv_stopPath)"
   ]
  },
  {
   "cell_type": "code",
   "execution_count": 20,
   "metadata": {},
   "outputs": [],
   "source": [
    "SCScumulative_delay['Cyclic32 Delay'] = Global_accumulated_delay['Global accumulated Delay']\n",
    "SCScumulative_stop_delay['Cyclic32 Stop Delay'] = Global_accumulated_stop_delay['Global accumulated stop Delay']"
   ]
  },
  {
   "cell_type": "code",
   "execution_count": 21,
   "metadata": {},
   "outputs": [],
   "source": [
    "Session_ID = \"Cyclic_optimised_750_56s\""
   ]
  },
  {
   "cell_type": "code",
   "execution_count": 22,
   "metadata": {},
   "outputs": [],
   "source": [
    "csv_delayPath = os.path.join(Result_Path, Session_ID,\\\n",
    "                        \"Total_Cumulative_Delay.csv\")  \n",
    "csv_stopPath = os.path.join(Result_Path, Session_ID,\\\n",
    "                        \"Total_Cumulative_stop_Delay.csv\")  \n",
    "\n",
    "Global_accumulated_delay = pd.read_csv(csv_delayPath)\n",
    "Global_accumulated_stop_delay = pd.read_csv(csv_stopPath)"
   ]
  },
  {
   "cell_type": "code",
   "execution_count": 23,
   "metadata": {},
   "outputs": [],
   "source": [
    "SCScumulative_delay['Cyclic56 Delay'] = Global_accumulated_delay['Global accumulated Delay']\n",
    "SCScumulative_stop_delay['Cyclic56 Stop Delay'] = Global_accumulated_stop_delay['Global accumulated stop Delay']"
   ]
  },
  {
   "cell_type": "code",
   "execution_count": 24,
   "metadata": {},
   "outputs": [],
   "source": [
    "Session_ID = \"Cyclic_optimised_1000_160s\""
   ]
  },
  {
   "cell_type": "code",
   "execution_count": 25,
   "metadata": {},
   "outputs": [],
   "source": [
    "csv_delayPath = os.path.join(Result_Path, Session_ID,\\\n",
    "                        \"Total_Cumulative_Delay.csv\")  \n",
    "csv_stopPath = os.path.join(Result_Path, Session_ID,\\\n",
    "                        \"Total_Cumulative_stop_Delay.csv\")  \n",
    "\n",
    "Global_accumulated_delay = pd.read_csv(csv_delayPath)\n",
    "Global_accumulated_stop_delay = pd.read_csv(csv_stopPath)"
   ]
  },
  {
   "cell_type": "code",
   "execution_count": 36,
   "metadata": {},
   "outputs": [],
   "source": [
    "SCScumulative_delay['Cyclic160 Delay'] = Global_accumulated_delay['Global accumulated Delay']\n",
    "SCScumulative_stop_delay['Cyclic160 Stop Delay'] = Global_accumulated_stop_delay['Global accumulated stop Delay']"
   ]
  },
  {
   "cell_type": "code",
   "execution_count": 37,
   "metadata": {},
   "outputs": [],
   "source": [
    "Session_ID = \"Cyclic_optimised_850_120s\""
   ]
  },
  {
   "cell_type": "code",
   "execution_count": 38,
   "metadata": {},
   "outputs": [],
   "source": [
    "csv_delayPath = os.path.join(Result_Path, Session_ID,\\\n",
    "                        \"Total_Cumulative_Delay.csv\")  \n",
    "csv_stopPath = os.path.join(Result_Path, Session_ID,\\\n",
    "                        \"Total_Cumulative_stop_Delay.csv\")  \n",
    "\n",
    "Global_accumulated_delay = pd.read_csv(csv_delayPath)\n",
    "Global_accumulated_stop_delay = pd.read_csv(csv_stopPath)"
   ]
  },
  {
   "cell_type": "code",
   "execution_count": 39,
   "metadata": {},
   "outputs": [],
   "source": [
    "SCScumulative_delay['Cyclic120 Delay'] = Global_accumulated_delay['Global accumulated Delay']\n",
    "SCScumulative_stop_delay['Cyclic120 Stop Delay'] = Global_accumulated_stop_delay['Global accumulated stop Delay']"
   ]
  },
  {
   "cell_type": "code",
   "execution_count": null,
   "metadata": {},
   "outputs": [],
   "source": []
  },
  {
   "cell_type": "code",
   "execution_count": 43,
   "metadata": {},
   "outputs": [],
   "source": [
    "Session_ID = \"Cyclic_optimised_20s\"\n",
    "csv_delayPath = os.path.join(Result_Path, Session_ID,\\\n",
    "                        \"Total_Cumulative_Delay.csv\")  \n",
    "csv_stopPath = os.path.join(Result_Path, Session_ID,\\\n",
    "                        \"Total_Cumulative_stop_Delay.csv\")  \n",
    "\n",
    "Global_accumulated_delay = pd.read_csv(csv_delayPath)\n",
    "Global_accumulated_stop_delay = pd.read_csv(csv_stopPath)\n",
    "SCScumulative_delay['Cyclic20 Delay'] = Global_accumulated_delay['Global accumulated Delay']\n",
    "SCScumulative_stop_delay['Cyclic20 Stop Delay'] = Global_accumulated_stop_delay['Global accumulated stop Delay']"
   ]
  },
  {
   "cell_type": "code",
   "execution_count": 44,
   "metadata": {},
   "outputs": [],
   "source": [
    "Session_ID = \"Cyclic_optimised_30s\"\n",
    "csv_delayPath = os.path.join(Result_Path, Session_ID,\\\n",
    "                        \"Total_Cumulative_Delay.csv\")  \n",
    "csv_stopPath = os.path.join(Result_Path, Session_ID,\\\n",
    "                        \"Total_Cumulative_stop_Delay.csv\")  \n",
    "\n",
    "Global_accumulated_delay = pd.read_csv(csv_delayPath)\n",
    "Global_accumulated_stop_delay = pd.read_csv(csv_stopPath)\n",
    "SCScumulative_delay['Cyclic30 Delay'] = Global_accumulated_delay['Global accumulated Delay']\n",
    "SCScumulative_stop_delay['Cyclic30 Stop Delay'] = Global_accumulated_stop_delay['Global accumulated stop Delay']"
   ]
  },
  {
   "cell_type": "code",
   "execution_count": 45,
   "metadata": {},
   "outputs": [],
   "source": [
    "Session_ID = \"Cyclic_optimised_40s\"\n",
    "csv_delayPath = os.path.join(Result_Path, Session_ID,\\\n",
    "                        \"Total_Cumulative_Delay.csv\")  \n",
    "csv_stopPath = os.path.join(Result_Path, Session_ID,\\\n",
    "                        \"Total_Cumulative_stop_Delay.csv\")  \n",
    "\n",
    "Global_accumulated_delay = pd.read_csv(csv_delayPath)\n",
    "Global_accumulated_stop_delay = pd.read_csv(csv_stopPath)\n",
    "SCScumulative_delay['Cyclic40 Delay'] = Global_accumulated_delay['Global accumulated Delay']\n",
    "SCScumulative_stop_delay['Cyclic40 Stop Delay'] = Global_accumulated_stop_delay['Global accumulated stop Delay']"
   ]
  },
  {
   "cell_type": "code",
   "execution_count": 46,
   "metadata": {},
   "outputs": [],
   "source": [
    "Session_ID = \"Cyclic_optimised_50s\"\n",
    "csv_delayPath = os.path.join(Result_Path, Session_ID,\\\n",
    "                        \"Total_Cumulative_Delay.csv\")  \n",
    "csv_stopPath = os.path.join(Result_Path, Session_ID,\\\n",
    "                        \"Total_Cumulative_stop_Delay.csv\")  \n",
    "\n",
    "Global_accumulated_delay = pd.read_csv(csv_delayPath)\n",
    "Global_accumulated_stop_delay = pd.read_csv(csv_stopPath)\n",
    "SCScumulative_delay['Cyclic50 Delay'] = Global_accumulated_delay['Global accumulated Delay']\n",
    "SCScumulative_stop_delay['Cyclic50 Stop Delay'] = Global_accumulated_stop_delay['Global accumulated stop Delay']"
   ]
  },
  {
   "cell_type": "code",
   "execution_count": 47,
   "metadata": {},
   "outputs": [],
   "source": [
    "Session_ID = \"Cyclic_optimised_60s\"\n",
    "csv_delayPath = os.path.join(Result_Path, Session_ID,\\\n",
    "                        \"Total_Cumulative_Delay.csv\")  \n",
    "csv_stopPath = os.path.join(Result_Path, Session_ID,\\\n",
    "                        \"Total_Cumulative_stop_Delay.csv\")  \n",
    "\n",
    "Global_accumulated_delay = pd.read_csv(csv_delayPath)\n",
    "Global_accumulated_stop_delay = pd.read_csv(csv_stopPath)\n",
    "SCScumulative_delay['Cyclic60 Delay'] = Global_accumulated_delay['Global accumulated Delay']\n",
    "SCScumulative_stop_delay['Cyclic60 Stop Delay'] = Global_accumulated_stop_delay['Global accumulated stop Delay']"
   ]
  },
  {
   "cell_type": "code",
   "execution_count": 48,
   "metadata": {},
   "outputs": [],
   "source": [
    "Session_ID = \"Cyclic_optimised_70s\"\n",
    "csv_delayPath = os.path.join(Result_Path, Session_ID,\\\n",
    "                        \"Total_Cumulative_Delay.csv\")  \n",
    "csv_stopPath = os.path.join(Result_Path, Session_ID,\\\n",
    "                        \"Total_Cumulative_stop_Delay.csv\")  \n",
    "\n",
    "Global_accumulated_delay = pd.read_csv(csv_delayPath)\n",
    "Global_accumulated_stop_delay = pd.read_csv(csv_stopPath)\n",
    "SCScumulative_delay['Cyclic70 Delay'] = Global_accumulated_delay['Global accumulated Delay']\n",
    "SCScumulative_stop_delay['Cyclic70 Stop Delay'] = Global_accumulated_stop_delay['Global accumulated stop Delay']"
   ]
  },
  {
   "cell_type": "code",
   "execution_count": 49,
   "metadata": {},
   "outputs": [],
   "source": [
    "Session_ID = \"Cyclic_optimised_80s\"\n",
    "csv_delayPath = os.path.join(Result_Path, Session_ID,\\\n",
    "                        \"Total_Cumulative_Delay.csv\")  \n",
    "csv_stopPath = os.path.join(Result_Path, Session_ID,\\\n",
    "                        \"Total_Cumulative_stop_Delay.csv\")  \n",
    "\n",
    "Global_accumulated_delay = pd.read_csv(csv_delayPath)\n",
    "Global_accumulated_stop_delay = pd.read_csv(csv_stopPath)\n",
    "SCScumulative_delay['Cyclic80 Delay'] = Global_accumulated_delay['Global accumulated Delay']\n",
    "SCScumulative_stop_delay['Cyclic80 Stop Delay'] = Global_accumulated_stop_delay['Global accumulated stop Delay']"
   ]
  },
  {
   "cell_type": "code",
   "execution_count": 50,
   "metadata": {},
   "outputs": [],
   "source": [
    "Session_ID = \"Cyclic_optimised_90s\"\n",
    "csv_delayPath = os.path.join(Result_Path, Session_ID,\\\n",
    "                        \"Total_Cumulative_Delay.csv\")  \n",
    "csv_stopPath = os.path.join(Result_Path, Session_ID,\\\n",
    "                        \"Total_Cumulative_stop_Delay.csv\")  \n",
    "\n",
    "Global_accumulated_delay = pd.read_csv(csv_delayPath)\n",
    "Global_accumulated_stop_delay = pd.read_csv(csv_stopPath)\n",
    "SCScumulative_delay['Cyclic90 Delay'] = Global_accumulated_delay['Global accumulated Delay']\n",
    "SCScumulative_stop_delay['Cyclic90 Stop Delay'] = Global_accumulated_stop_delay['Global accumulated stop Delay']"
   ]
  },
  {
   "cell_type": "code",
   "execution_count": 51,
   "metadata": {},
   "outputs": [],
   "source": [
    "Session_ID = \"Cyclic_optimised_100s\"\n",
    "csv_delayPath = os.path.join(Result_Path, Session_ID,\\\n",
    "                        \"Total_Cumulative_Delay.csv\")  \n",
    "csv_stopPath = os.path.join(Result_Path, Session_ID,\\\n",
    "                        \"Total_Cumulative_stop_Delay.csv\")  \n",
    "\n",
    "Global_accumulated_delay = pd.read_csv(csv_delayPath)\n",
    "Global_accumulated_stop_delay = pd.read_csv(csv_stopPath)\n",
    "SCScumulative_delay['Cyclic100 Delay'] = Global_accumulated_delay['Global accumulated Delay']\n",
    "SCScumulative_stop_delay['Cyclic100 Stop Delay'] = Global_accumulated_stop_delay['Global accumulated stop Delay']"
   ]
  },
  {
   "cell_type": "code",
   "execution_count": 52,
   "metadata": {},
   "outputs": [],
   "source": [
    "Session_ID = \"Cyclic_optimised_110s\"\n",
    "csv_delayPath = os.path.join(Result_Path, Session_ID,\\\n",
    "                        \"Total_Cumulative_Delay.csv\")  \n",
    "csv_stopPath = os.path.join(Result_Path, Session_ID,\\\n",
    "                        \"Total_Cumulative_stop_Delay.csv\")  \n",
    "\n",
    "Global_accumulated_delay = pd.read_csv(csv_delayPath)\n",
    "Global_accumulated_stop_delay = pd.read_csv(csv_stopPath)\n",
    "SCScumulative_delay['Cyclic110 Delay'] = Global_accumulated_delay['Global accumulated Delay']\n",
    "SCScumulative_stop_delay['Cyclic110 Stop Delay'] = Global_accumulated_stop_delay['Global accumulated stop Delay']"
   ]
  },
  {
   "cell_type": "code",
   "execution_count": 53,
   "metadata": {},
   "outputs": [],
   "source": [
    "Session_ID = \"Cyclic_optimised_120s\"\n",
    "csv_delayPath = os.path.join(Result_Path, Session_ID,\\\n",
    "                        \"Total_Cumulative_Delay.csv\")  \n",
    "csv_stopPath = os.path.join(Result_Path, Session_ID,\\\n",
    "                        \"Total_Cumulative_stop_Delay.csv\")  \n",
    "\n",
    "Global_accumulated_delay = pd.read_csv(csv_delayPath)\n",
    "Global_accumulated_stop_delay = pd.read_csv(csv_stopPath)\n",
    "SCScumulative_delay['Cyclic120 Delay'] = Global_accumulated_delay['Global accumulated Delay']\n",
    "SCScumulative_stop_delay['Cyclic120 Stop Delay'] = Global_accumulated_stop_delay['Global accumulated stop Delay']"
   ]
  },
  {
   "cell_type": "code",
   "execution_count": 56,
   "metadata": {},
   "outputs": [],
   "source": [
    "Session_ID = \"Cyclic_optimised_52s\"\n",
    "csv_delayPath = os.path.join(Result_Path, Session_ID,\\\n",
    "                        \"Total_Cumulative_Delay.csv\")  \n",
    "csv_stopPath = os.path.join(Result_Path, Session_ID,\\\n",
    "                        \"Total_Cumulative_stop_Delay.csv\")  \n",
    "\n",
    "Global_accumulated_delay = pd.read_csv(csv_delayPath)\n",
    "Global_accumulated_stop_delay = pd.read_csv(csv_stopPath)\n",
    "SCScumulative_delay['Cyclic52 Delay'] = Global_accumulated_delay['Global accumulated Delay']\n",
    "SCScumulative_stop_delay['Cyclic52 Stop Delay'] = Global_accumulated_stop_delay['Global accumulated stop Delay']"
   ]
  },
  {
   "cell_type": "code",
   "execution_count": 57,
   "metadata": {},
   "outputs": [],
   "source": [
    "Session_ID = \"Cyclic_optimised_54s\"\n",
    "csv_delayPath = os.path.join(Result_Path, Session_ID,\\\n",
    "                        \"Total_Cumulative_Delay.csv\")  \n",
    "csv_stopPath = os.path.join(Result_Path, Session_ID,\\\n",
    "                        \"Total_Cumulative_stop_Delay.csv\")  \n",
    "\n",
    "Global_accumulated_delay = pd.read_csv(csv_delayPath)\n",
    "Global_accumulated_stop_delay = pd.read_csv(csv_stopPath)\n",
    "SCScumulative_delay['Cyclic54 Delay'] = Global_accumulated_delay['Global accumulated Delay']\n",
    "SCScumulative_stop_delay['Cyclic54 Stop Delay'] = Global_accumulated_stop_delay['Global accumulated stop Delay']"
   ]
  },
  {
   "cell_type": "code",
   "execution_count": 58,
   "metadata": {},
   "outputs": [],
   "source": [
    "Session_ID = \"Cyclic_optimised_56s\"\n",
    "csv_delayPath = os.path.join(Result_Path, Session_ID,\\\n",
    "                        \"Total_Cumulative_Delay.csv\")  \n",
    "csv_stopPath = os.path.join(Result_Path, Session_ID,\\\n",
    "                        \"Total_Cumulative_stop_Delay.csv\")  \n",
    "\n",
    "Global_accumulated_delay = pd.read_csv(csv_delayPath)\n",
    "Global_accumulated_stop_delay = pd.read_csv(csv_stopPath)\n",
    "SCScumulative_delay['Cyclic56 Delay'] = Global_accumulated_delay['Global accumulated Delay']\n",
    "SCScumulative_stop_delay['Cyclic56 Stop Delay'] = Global_accumulated_stop_delay['Global accumulated stop Delay']"
   ]
  },
  {
   "cell_type": "code",
   "execution_count": 59,
   "metadata": {},
   "outputs": [],
   "source": [
    "Session_ID = \"Cyclic_optimised_58s\"\n",
    "csv_delayPath = os.path.join(Result_Path, Session_ID,\\\n",
    "                        \"Total_Cumulative_Delay.csv\")  \n",
    "csv_stopPath = os.path.join(Result_Path, Session_ID,\\\n",
    "                        \"Total_Cumulative_stop_Delay.csv\")  \n",
    "\n",
    "Global_accumulated_delay = pd.read_csv(csv_delayPath)\n",
    "Global_accumulated_stop_delay = pd.read_csv(csv_stopPath)\n",
    "SCScumulative_delay['Cyclic58 Delay'] = Global_accumulated_delay['Global accumulated Delay']\n",
    "SCScumulative_stop_delay['Cyclic58 Stop Delay'] = Global_accumulated_stop_delay['Global accumulated stop Delay']"
   ]
  },
  {
   "cell_type": "code",
   "execution_count": null,
   "metadata": {},
   "outputs": [],
   "source": []
  },
  {
   "cell_type": "markdown",
   "metadata": {},
   "source": [
    "AC"
   ]
  },
  {
   "cell_type": "code",
   "execution_count": 27,
   "metadata": {},
   "outputs": [],
   "source": [
    "Session_ID1 = \"Single_Cross_Straigth_AC\" \n",
    "Session_ID2 = \"Single_Cross_Straigth_AC1\" \n",
    "Session_ID3 = \"Single_Cross_Straigth_AC3\" \n",
    "\n",
    "csv_delayPath1 = os.path.join(Result_Path, Session_ID1,\\\n",
    "                        \"Total_Cumulative_Delay.csv\")  \n",
    "csv_delayPath2 = os.path.join(Result_Path, Session_ID2,\\\n",
    "                        \"Total_Cumulative_Delay.csv\")  \n",
    "csv_delayPath3 = os.path.join(Result_Path, Session_ID3,\\\n",
    "                        \"Total_Cumulative_Delay.csv\")  \n",
    "\n",
    "\n",
    "csv_stopPath1 = os.path.join(Result_Path, Session_ID1,\\\n",
    "                        \"Total_Cumulative_stop_Delay.csv\")  \n",
    "csv_stopPath2 = os.path.join(Result_Path, Session_ID2,\\\n",
    "                        \"Total_Cumulative_stop_Delay.csv\")\n",
    "csv_stopPath3 = os.path.join(Result_Path, Session_ID3,\\\n",
    "                        \"Total_Cumulative_stop_Delay.csv\")\n",
    "\n",
    "Global_accumulated_delay1 = pd.read_csv(csv_delayPath1)\n",
    "Global_accumulated_stop_delay1 = pd.read_csv(csv_stopPath1)\n",
    "\n",
    "Global_accumulated_delay2 = pd.read_csv(csv_delayPath2)\n",
    "Global_accumulated_stop_delay2 = pd.read_csv(csv_stopPath2)\n",
    "\n",
    "Global_accumulated_delay3 = pd.read_csv(csv_delayPath3)\n",
    "Global_accumulated_stop_delay3 = pd.read_csv(csv_stopPath3)"
   ]
  },
  {
   "cell_type": "code",
   "execution_count": 28,
   "metadata": {},
   "outputs": [],
   "source": [
    "\n",
    "SCScumulative_delay['AC Delay'] = (Global_accumulated_delay1['Global accumulated Delay']+Global_accumulated_delay2['Global accumulated Delay']+Global_accumulated_delay3['Global accumulated Delay'])/3\n",
    "SCScumulative_stop_delay['AC Stop Delay'] =  (Global_accumulated_stop_delay1['Global accumulated stop Delay']+Global_accumulated_stop_delay2['Global accumulated stop Delay']+Global_accumulated_stop_delay3['Global accumulated stop Delay'])/3"
   ]
  },
  {
   "cell_type": "code",
   "execution_count": null,
   "metadata": {},
   "outputs": [],
   "source": []
  },
  {
   "cell_type": "code",
   "execution_count": 29,
   "metadata": {},
   "outputs": [],
   "source": [
    "Session_ID1 = \"Single_Cross_Straigth_DuelingDDQN20c0\" \n",
    "Session_ID2 = \"Single_Cross_Straigth_DuelingDDQN20c1\" \n",
    "Session_ID3 = \"Single_Cross_Straigth_DuelingDDQN20c2\" \n",
    "\n",
    "csv_delayPath1 = os.path.join(Result_Path, Session_ID1,\\\n",
    "                        \"Total_Cumulative_Delay.csv\")  \n",
    "csv_delayPath2 = os.path.join(Result_Path, Session_ID2,\\\n",
    "                        \"Total_Cumulative_Delay.csv\")  \n",
    "csv_delayPath3 = os.path.join(Result_Path, Session_ID3,\\\n",
    "                        \"Total_Cumulative_Delay.csv\")  \n",
    "\n",
    "\n",
    "csv_stopPath1 = os.path.join(Result_Path, Session_ID1,\\\n",
    "                        \"Total_Cumulative_stop_Delay.csv\")  \n",
    "csv_stopPath2 = os.path.join(Result_Path, Session_ID2,\\\n",
    "                        \"Total_Cumulative_stop_Delay.csv\")\n",
    "csv_stopPath3 = os.path.join(Result_Path, Session_ID3,\\\n",
    "                        \"Total_Cumulative_stop_Delay.csv\")\n",
    "\n",
    "Global_accumulated_delay1 = pd.read_csv(csv_delayPath1)\n",
    "Global_accumulated_stop_delay1 = pd.read_csv(csv_stopPath1)\n",
    "\n",
    "Global_accumulated_delay2 = pd.read_csv(csv_delayPath2)\n",
    "Global_accumulated_stop_delay2 = pd.read_csv(csv_stopPath2)\n",
    "\n",
    "Global_accumulated_delay3 = pd.read_csv(csv_delayPath3)\n",
    "Global_accumulated_stop_delay3 = pd.read_csv(csv_stopPath3)"
   ]
  },
  {
   "cell_type": "code",
   "execution_count": 30,
   "metadata": {},
   "outputs": [],
   "source": [
    "SCScumulative_delay['DuelingDDQN Delay'] = (Global_accumulated_delay1['Global accumulated Delay']+Global_accumulated_delay2['Global accumulated Delay']+Global_accumulated_delay3['Global accumulated Delay'])/3\n",
    "SCScumulative_stop_delay['DuelingDDQN Stop Delay'] =  (Global_accumulated_stop_delay1['Global accumulated stop Delay']+Global_accumulated_stop_delay2['Global accumulated stop Delay']+Global_accumulated_stop_delay3['Global accumulated stop Delay'])/3"
   ]
  },
  {
   "cell_type": "code",
   "execution_count": null,
   "metadata": {},
   "outputs": [],
   "source": []
  },
  {
   "cell_type": "code",
   "execution_count": 31,
   "metadata": {},
   "outputs": [],
   "source": [
    "Session_ID1 = \"Single_Cross_Straigth_DuelingDQN20c0\" \n",
    "Session_ID2 = \"Single_Cross_Straigth_DuelingDQN20c1\" \n",
    "Session_ID3 = \"Single_Cross_Straigth_DuelingDQN20c2\" \n",
    "\n",
    "csv_delayPath1 = os.path.join(Result_Path, Session_ID1,\\\n",
    "                        \"Total_Cumulative_Delay.csv\")  \n",
    "csv_delayPath2 = os.path.join(Result_Path, Session_ID2,\\\n",
    "                        \"Total_Cumulative_Delay.csv\")  \n",
    "csv_delayPath3 = os.path.join(Result_Path, Session_ID3,\\\n",
    "                        \"Total_Cumulative_Delay.csv\")  \n",
    "\n",
    "\n",
    "csv_stopPath1 = os.path.join(Result_Path, Session_ID1,\\\n",
    "                        \"Total_Cumulative_stop_Delay.csv\")  \n",
    "csv_stopPath2 = os.path.join(Result_Path, Session_ID2,\\\n",
    "                        \"Total_Cumulative_stop_Delay.csv\")\n",
    "csv_stopPath3 = os.path.join(Result_Path, Session_ID3,\\\n",
    "                        \"Total_Cumulative_stop_Delay.csv\")\n",
    "\n",
    "Global_accumulated_delay1 = pd.read_csv(csv_delayPath1)\n",
    "Global_accumulated_stop_delay1 = pd.read_csv(csv_stopPath1)\n",
    "\n",
    "Global_accumulated_delay2 = pd.read_csv(csv_delayPath2)\n",
    "Global_accumulated_stop_delay2 = pd.read_csv(csv_stopPath2)\n",
    "\n",
    "Global_accumulated_delay3 = pd.read_csv(csv_delayPath3)\n",
    "Global_accumulated_stop_delay3 = pd.read_csv(csv_stopPath3)"
   ]
  },
  {
   "cell_type": "code",
   "execution_count": 32,
   "metadata": {},
   "outputs": [],
   "source": [
    "SCScumulative_delay['DuelingDQN Delay'] = (Global_accumulated_delay1['Global accumulated Delay']+Global_accumulated_delay2['Global accumulated Delay']+Global_accumulated_delay3['Global accumulated Delay'])/3\n",
    "SCScumulative_stop_delay['DuelingDQN Stop Delay'] =  (Global_accumulated_stop_delay1['Global accumulated stop Delay']+Global_accumulated_stop_delay2['Global accumulated stop Delay']+Global_accumulated_stop_delay3['Global accumulated stop Delay'])/3"
   ]
  },
  {
   "cell_type": "code",
   "execution_count": null,
   "metadata": {},
   "outputs": [],
   "source": []
  },
  {
   "cell_type": "code",
   "execution_count": 33,
   "metadata": {},
   "outputs": [],
   "source": [
    "SCScumulative_delay.to_csv('SCScumulative_delay.csv',index=False)\n",
    "SCScumulative_stop_delay.to_csv('SCScumulative_stop_delay.csv',index=False)"
   ]
  },
  {
   "cell_type": "code",
   "execution_count": null,
   "metadata": {},
   "outputs": [],
   "source": []
  },
  {
   "cell_type": "markdown",
   "metadata": {},
   "source": [
    "Get the cumulative delay plot"
   ]
  },
  {
   "cell_type": "code",
   "execution_count": 55,
   "metadata": {},
   "outputs": [
    {
     "data": {
      "image/png": "[encoded data removed]",
      "text/plain": [
       "<Figure size 1152x648 with 1 Axes>"
      ]
     },
     "metadata": {
      "needs_background": "light"
     },
     "output_type": "display_data"
    }
   ],
   "source": [
    "plt.figure(1,figsize=(16, 9))\n",
    "\n",
    "#plt.plot(SCScumulative_delay['Time'],SCScumulative_delay['DuelingDQN Delay'],linewidth=3.0, label = 'DuellingDQN' )\n",
    "#plt.plot(SCScumulative_delay['Time'],SCScumulative_delay['DuelingDDQN Delay'],linewidth=3.0, label = 'DuellingDDQN' )\n",
    "#plt.plot(SCScumulative_delay['Time'],SCScumulative_delay['Surtrac Delay'],linewidth=3.0, label = 'Surtrac' )\n",
    "#plt.plot(SCScumulative_delay['Time'],SCScumulative_delay['MOVA Delay'],linewidth=3.0, label = 'MOVA' )\n",
    "#plt.plot(SCScumulative_delay['Time'],SCScumulative_delay['AC Delay'],linewidth=3.0, label = 'A2C' )\n",
    "#plt.plot(SCScumulative_delay['Time'],SCScumulative_delay['Cyclic160 Delay'],linewidth=3.0, label = 'Cyclic160' )\n",
    "#plt.plot(SCScumulative_delay['Time'],SCScumulative_delay['Cyclic120 Delay'],linewidth=3.0, label = 'Cyclic120' )\n",
    "#plt.plot(SCScumulative_delay['Time'],SCScumulative_delay['Cyclic90 Delay'],linewidth=3.0, label = 'Cyclic90' )\n",
    "#plt.plot(SCScumulative_delay['Time'],SCScumulative_delay['Cyclic56 Delay'],linewidth=3.0, label = 'Cyclic56' )\n",
    "#plt.plot(SCScumulative_delay['Time'],SCScumulative_delay['Cyclic32 Delay'],linewidth=3.0, label = 'Cyclic32' )\n",
    "#plt.plot(SCScumulative_delay['Time'],SCScumulative_delay['Cyclic24 Delay'],linewidth=3.0, label = 'Cyclic24' )\n",
    "\n",
    "plt.plot(SCScumulative_delay['Time'],SCScumulative_delay['Cyclic20 Delay'],linewidth=3.0, label = 'Cyclic20' )\n",
    "plt.plot(SCScumulative_delay['Time'],SCScumulative_delay['Cyclic30 Delay'],linewidth=3.0, label = 'Cyclic30' )\n",
    "plt.plot(SCScumulative_delay['Time'],SCScumulative_delay['Cyclic40 Delay'],linewidth=3.0, label = 'Cyclic40' )\n",
    "plt.plot(SCScumulative_delay['Time'],SCScumulative_delay['Cyclic50 Delay'],linewidth=3.0, label = 'Cyclic50' )\n",
    "plt.plot(SCScumulative_delay['Time'],SCScumulative_delay['Cyclic60 Delay'],linewidth=3.0, label = 'Cyclic60' )\n",
    "plt.plot(SCScumulative_delay['Time'],SCScumulative_delay['Cyclic70 Delay'],linewidth=3.0, label = 'Cyclic70' )\n",
    "plt.plot(SCScumulative_delay['Time'],SCScumulative_delay['Cyclic80 Delay'],linewidth=3.0, label = 'Cyclic80' )\n",
    "plt.plot(SCScumulative_delay['Time'],SCScumulative_delay['Cyclic90 Delay'],linewidth=3.0, label = 'Cyclic90' )\n",
    "plt.plot(SCScumulative_delay['Time'],SCScumulative_delay['Cyclic100 Delay'],linewidth=3.0, label = 'Cyclic100' )\n",
    "plt.plot(SCScumulative_delay['Time'],SCScumulative_delay['Cyclic110 Delay'],linewidth=3.0, label = 'Cyclic110' )\n",
    "plt.plot(SCScumulative_delay['Time'],SCScumulative_delay['Cyclic120 Delay'],linewidth=3.0, label = 'Cyclic120' )\n",
    "\n",
    "\n",
    "\n",
    "\n",
    "#plt.rc('xtick',labelsize=15)\n",
    "#plt.rc('ytick',labelsize=15)\n",
    "plt.xlabel('Time [s]',fontsize=18)\n",
    "plt.ylabel('Global accumulated Delay [s]',fontsize=18)\n",
    "plt.title('Global accumulated Delay on Single Cross Straight',fontsize=18)\n",
    "plt.legend()\n",
    "\n",
    "plt.savefig(\"SCS Delay\")\n",
    "\n"
   ]
  },
  {
   "cell_type": "code",
   "execution_count": 66,
   "metadata": {},
   "outputs": [
    {
     "data": {
      "image/png": "[encoded data removed]",
      "text/plain": [
       "<Figure size 1152x648 with 1 Axes>"
      ]
     },
     "metadata": {
      "needs_background": "light"
     },
     "output_type": "display_data"
    }
   ],
   "source": [
    "plt.figure(1,figsize=(16, 9))\n",
    "\n",
    "plt.plot(SCScumulative_delay['Time'],SCScumulative_delay['DuelingDQN Delay'],linewidth=3.0, label = 'DuellingDQN' )\n",
    "plt.plot(SCScumulative_delay['Time'],SCScumulative_delay['DuelingDDQN Delay'],linewidth=3.0, label = 'DuellingDDQN' )\n",
    "plt.plot(SCScumulative_delay['Time'],SCScumulative_delay['Surtrac Delay'],linewidth=3.0, label = 'Surtrac' )\n",
    "plt.plot(SCScumulative_delay['Time'],SCScumulative_delay['MOVA Delay'],linewidth=3.0, label = 'MOVA' )\n",
    "plt.plot(SCScumulative_delay['Time'],SCScumulative_delay['AC Delay'],linewidth=3.0, label = 'A2C' )\n",
    "#plt.plot(SCScumulative_delay['Time'],SCScumulative_delay['Cyclic160 Delay'],linewidth=3.0, label = 'Cyclic160' )\n",
    "#plt.plot(SCScumulative_delay['Time'],SCScumulative_delay['Cyclic120 Delay'],linewidth=3.0, label = 'Cyclic120' )\n",
    "#plt.plot(SCScumulative_delay['Time'],SCScumulative_delay['Cyclic90 Delay'],linewidth=3.0, label = 'Cyclic90' )\n",
    "#plt.plot(SCScumulative_delay['Time'],SCScumulative_delay['Cyclic56 Delay'],linewidth=3.0, label = 'Cyclic56' )\n",
    "#plt.plot(SCScumulative_delay['Time'],SCScumulative_delay['Cyclic32 Delay'],linewidth=3.0, label = 'Cyclic32' )\n",
    "#plt.plot(SCScumulative_delay['Time'],SCScumulative_delay['Cyclic24 Delay'],linewidth=3.0, label = 'Cyclic24' )\n",
    "\n",
    "#plt.plot(SCScumulative_delay['Time'],SCScumulative_delay['Cyclic50 Delay'],linewidth=3.0, label = 'Cyclic50' )\n",
    "#plt.plot(SCScumulative_delay['Time'],SCScumulative_delay['Cyclic52 Delay'],linewidth=3.0, label = 'Cyclic52' )\n",
    "#plt.plot(SCScumulative_delay['Time'],SCScumulative_delay['Cyclic54 Delay'],linewidth=3.0, label = 'Cyclic54' )\n",
    "#plt.plot(SCScumulative_delay['Time'],SCScumulative_delay['Cyclic56 Delay'],linewidth=3.0, label = 'Cyclic56' )\n",
    "#plt.plot(SCScumulative_delay['Time'],SCScumulative_delay['Cyclic58 Delay'],linewidth=3.0, label = 'Cyclic58' )\n",
    "#plt.plot(SCScumulative_delay['Time'],SCScumulative_delay['Cyclic60 Delay'],linewidth=3.0, label = 'Cyclic60' )\n",
    "\n",
    "\n",
    "\n",
    "\n",
    "\n",
    "\n",
    "#plt.rc('xtick',labelsize=15)\n",
    "#plt.rc('ytick',labelsize=15)\n",
    "plt.xlabel('Time [s]',fontsize=18)\n",
    "plt.ylabel('Global accumulated Delay [s]',fontsize=18)\n",
    "plt.title('Global accumulated Delay on Single Cross Straight',fontsize=18)\n",
    "plt.legend()\n",
    "\n",
    "plt.savefig(\"SCS Delay_wocyclic\")\n",
    "\n"
   ]
  },
  {
   "cell_type": "markdown",
   "metadata": {},
   "source": [
    "Get the cumulative stop delay plot"
   ]
  },
  {
   "cell_type": "code",
   "execution_count": 67,
   "metadata": {},
   "outputs": [
    {
     "data": {
      "image/png": "[encoded data removed]",
      "text/plain": [
       "<Figure size 1152x648 with 1 Axes>"
      ]
     },
     "metadata": {
      "needs_background": "light"
     },
     "output_type": "display_data"
    }
   ],
   "source": [
    "plt.figure(2,figsize=(16, 9))\n",
    "\n",
    "plt.plot(SCScumulative_stop_delay['Time'],SCScumulative_stop_delay['DuelingDQN Stop Delay'],linewidth=3.0, label = 'DuelingDQN' )\n",
    "plt.plot(SCScumulative_stop_delay['Time'],SCScumulative_stop_delay['DuelingDDQN Stop Delay'],linewidth=3.0, label = 'DuelingDDQN' )\n",
    "plt.plot(SCScumulative_stop_delay['Time'],SCScumulative_stop_delay['Surtrac Stop Delay'],linewidth=3.0, label = 'Surtrac' )\n",
    "plt.plot(SCScumulative_stop_delay['Time'],SCScumulative_stop_delay['MOVA Stop Delay'],linewidth=3.0, label = 'MOVA' )\n",
    "plt.plot(SCScumulative_stop_delay['Time'],SCScumulative_stop_delay['AC Stop Delay'],linewidth=3.0, label = 'A2C' )\n",
    "#plt.plot(SCScumulative_stop_delay['Time'],SCScumulative_stop_delay['Cyclic160 Stop Delay'],linewidth=3.0, label = 'Cyclic160' )\n",
    "#plt.plot(SCScumulative_stop_delay['Time'],SCScumulative_stop_delay['Cyclic90 Stop Delay'],linewidth=3.0, label = 'Cyclic90' )\n",
    "#plt.plot(SCScumulative_stop_delay['Time'],SCScumulative_stop_delay['Cyclic56 Stop Delay'],linewidth=3.0, label = 'Cyclic56' )\n",
    "#plt.plot(SCScumulative_stop_delay['Time'],SCScumulative_stop_delay['Cyclic32 Stop Delay'],linewidth=3.0, label = 'Cyclic32' )\n",
    "#plt.plot(SCScumulative_stop_delay['Time'],SCScumulative_stop_delay['Cyclic24 Stop Delay'],linewidth=3.0, label = 'Cyclic24' )\n",
    "\n",
    "plt.rc('xtick',labelsize=15)\n",
    "plt.rc('ytick',labelsize=15)\n",
    "plt.xlabel('Time [s]',fontsize=18)\n",
    "plt.ylabel('Global accumulated Stop Delay [s]',fontsize=18)\n",
    "plt.title('Global accumulated Stop Delay on Single Cross Straight',fontsize=18)\n",
    "\n",
    "plt.legend()\n",
    "\n",
    "plt.savefig(\"SCS Stop Delay_wocyclic\")"
   ]
  },
  {
   "cell_type": "code",
   "execution_count": null,
   "metadata": {},
   "outputs": [],
   "source": []
  },
  {
   "cell_type": "code",
   "execution_count": null,
   "metadata": {},
   "outputs": [],
   "source": []
  },
  {
   "cell_type": "code",
   "execution_count": null,
   "metadata": {},
   "outputs": [],
   "source": []
  },
  {
   "cell_type": "code",
   "execution_count": null,
   "metadata": {},
   "outputs": [],
   "source": []
  },
  {
   "cell_type": "code",
   "execution_count": null,
   "metadata": {},
   "outputs": [],
   "source": [
    "time = [t for t in range(len(Cumulative_Totale_network_stop_delay))]\n",
    "\n",
    "# Queues ovzer time for each junction\n",
    "for idx, queues in Episode_Queues.items():\n",
    "    queues = np.array(Episode_Queues[0])\n",
    "    queues = queues.T\n",
    "    \n",
    "    plt.figure('1'+str(idx),figsize=(16, 9))\n",
    "    \n",
    "    Queuesdf = pd.DataFrame()\n",
    "    \n",
    "    Queuesdf['Time'] = time\n",
    "    Queues_legend = []\n",
    "    \n",
    "    for i, queue in enumerate(queues):\n",
    "        plt.plot(queue, label = \"Queue\"+str(i))\n",
    "        Queuesdf[str(i)] = queue\n",
    "        Queues_legend.append(\"Queue\"+str(i))\n",
    "        \n",
    "    plt.xlabel('Time [s]',fontsize=18)\n",
    "    plt.ylabel('Queue Length',fontsize=18)\n",
    "    plt.title('Junction {} Queue length'.format(idx),fontsize=18)\n",
    "    #plt.gca().legend(Queues_legend)\n",
    "    \n",
    "    Path = os.path.join(vissim_working_directory, model_name, \"Agents_Results\", Session_ID,\\\n",
    "                        \"Junction{}_Queues.png\".format(idx))               \n",
    "    plt.savefig(Path)\n",
    "    \n",
    "    csv_Path = os.path.join(vissim_working_directory, model_name, \"Agents_Results\", Session_ID,\\\n",
    "                        \"Junction{}_Queues.csv\".format(idx))        \n",
    "   \n",
    "    Queuesdf.to_csv(csv_Path,index=False)\n",
    "    plt.legend()\n",
    "        \n",
    "        \n",
    "# Accumulated delay over time for each junction\n",
    "for idx, delay in Cumulative_Episode_Delays.items():\n",
    "    \n",
    "    plt.figure('2'+str(idx),figsize=(16, 9))\n",
    "    \n",
    "    delaydf = pd.DataFrame()   \n",
    "    delaydf['Time'] = time\n",
    "    delaydf['Junction {} delay'.format(idx)] = delay\n",
    "    \n",
    "    plt.plot(delay)\n",
    "    plt.xlabel('Time [s]',fontsize=18)\n",
    "    plt.ylabel('Accumulated Delay',fontsize=18)\n",
    "    plt.title('Junction {} Delay'.format(idx),fontsize=18)\n",
    "    plt.gca().legend('Junction accumulated delay')\n",
    "    \n",
    "    Path = os.path.join(vissim_working_directory, model_name, \"Agents_Results\", Session_ID,\\\n",
    "                            \"Junction{}_Cumulative_Delay.png\".format(idx))\n",
    "    csv_Path = os.path.join(vissim_working_directory, model_name, \"Agents_Results\", Session_ID,\\\n",
    "                        \"Junction{}_Cumulative_Delay.csv\".format(idx))   \n",
    "    plt.savefig(Path)\n",
    "\n",
    "    delaydf.to_csv(csv_Path,index=False)\n",
    "    \n",
    "    \n",
    "# Accumulated stop delay over time for each junction\n",
    "for idx, stop_delay in Cumulative_Episode_stop_Delays.items():\n",
    "    \n",
    "    plt.figure('3'+str(idx),figsize=(16, 9))\n",
    "    \n",
    "    stop_delaydf = pd.DataFrame()   \n",
    "    stop_delaydf['Time'] = time\n",
    "    stop_delaydf['Junction {} stop delay'.format(idx)] = stop_delay\n",
    "\n",
    "    plt.plot(stop_delay)\n",
    "    plt.xlabel('Time [s]',fontsize=18)\n",
    "    plt.ylabel('Accumulated Stop Delay',fontsize=18)\n",
    "    plt.title('Junction {} Stop Delay'.format(idx),fontsize=18)\n",
    "    plt.gca().legend('Junction accumulated Stop delay')\n",
    "    \n",
    "    Path = os.path.join(vissim_working_directory, model_name, \"Agents_Results\", Session_ID,\\\n",
    "                            \"Junction{}_Cumulative_stop_Delay.png\".format(idx))\n",
    "    csv_Path = os.path.join(vissim_working_directory, model_name, \"Agents_Results\", Session_ID,\\\n",
    "                        \"Junction{}_Cumulative_stop_Delay.csv\".format(idx))\n",
    "    plt.savefig(Path)\n",
    "    stop_delaydf.to_csv(csv_Path,index=False)\n",
    "    \n",
    "# Global Accumulated delay over time\n",
    "plt.figure('4',figsize=(16,9))\n",
    "\n",
    "\n",
    "Global_delaydf = pd.DataFrame()   \n",
    "Global_delaydf['Time'] = time\n",
    "Global_delaydf['Global accumulated Delay'] = Cumulative_Totale_network_delay\n",
    "\n",
    "plt.plot(Cumulative_Totale_network_delay)\n",
    "plt.xlabel('Time [s]',fontsize=18)\n",
    "plt.ylabel('Global accumulated Delay',fontsize=18)\n",
    "plt.title('Global accumulated Delay',fontsize=18)\n",
    "plt.gca().legend('Global accumulated delay')\n",
    "\n",
    "Path = os.path.join(vissim_working_directory, model_name, \"Agents_Results\", Session_ID,\\\n",
    "                        \"Total_Cumulative_Delay.png\")\n",
    "csv_Path = os.path.join(vissim_working_directory, model_name, \"Agents_Results\", Session_ID,\\\n",
    "                        \"Total_Cumulative_Delay.csv\")\n",
    "plt.savefig(Path)\n",
    "Global_delaydf.to_csv(csv_Path,index=False)\n",
    "\n",
    "# Global Accumulated stop delay over time\n",
    "plt.figure('5'+str(idx),figsize=(16, 9))\n",
    "\n",
    "Global_stop_delaydf = pd.DataFrame()   \n",
    "Global_stop_delaydf['Time'] = time\n",
    "Global_stop_delaydf['Global accumulated stop Delay'] = Cumulative_Totale_network_stop_delay\n",
    "\n",
    "plt.plot(Cumulative_Totale_network_stop_delay)\n",
    "plt.xlabel('Time [s]',fontsize=18)\n",
    "plt.ylabel('Global accumulated stop Delay',fontsize=18)\n",
    "plt.title('Global accumulated stop Delay',fontsize=18)\n",
    "plt.gca().legend('Global accumulated stop Delay')\n",
    "\n",
    "Path = os.path.join(vissim_working_directory, model_name, \"Agents_Results\", Session_ID,\\\n",
    "                        \"Total_Cumulative_stop_Delay.png\")\n",
    "csv_Path = os.path.join(vissim_working_directory, model_name, \"Agents_Results\", Session_ID,\\\n",
    "                        \"Total_Cumulative_stop_Delay.csv\")\n",
    "plt.savefig(Path)\n",
    "Global_stop_delaydf.to_csv(csv_Path,index=False)\n",
    "\n",
    "\n",
    "\n",
    "\n"
   ]
  },
  {
   "cell_type": "code",
   "execution_count": null,
   "metadata": {},
   "outputs": [],
   "source": []
  },
  {
   "cell_type": "markdown",
   "metadata": {
    "heading_collapsed": true
   },
   "source": [
    "# Single Cross Triple"
   ]
  },
  {
   "cell_type": "code",
   "execution_count": null,
   "metadata": {
    "hidden": true
   },
   "outputs": [],
   "source": [
    "model_name  = 'Single_Cross_Triple'\n",
    "Result_Path = 'Agents_ResultsTriple'\n"
   ]
  },
  {
   "cell_type": "markdown",
   "metadata": {
    "hidden": true
   },
   "source": [
    "MOVA"
   ]
  },
  {
   "cell_type": "code",
   "execution_count": null,
   "metadata": {
    "hidden": true
   },
   "outputs": [],
   "source": [
    "Session_ID = \"MOVA3\"\n",
    "\n",
    "csv_delayPath = os.path.join(Result_Path, Session_ID,\\\n",
    "                        \"Total_Cumulative_Delay.csv\")  \n",
    "csv_stopPath = os.path.join(Result_Path, Session_ID,\\\n",
    "                        \"Total_Cumulative_stop_Delay.csv\") \n",
    "\n",
    "csv_queuesPath = os.path.join(Result_Path, Session_ID,\\\n",
    "                        \"Junction0_Queues.csv\") \n",
    "\n",
    "\n",
    "\n",
    "Global_accumulated_delay = pd.read_csv(csv_delayPath)\n",
    "Global_accumulated_stop_delay = pd.read_csv(csv_stopPath)\n",
    "Queues = pd.read_csv(csv_queuesPath)\n",
    "\n",
    "SCTcumulative_delay = pd.DataFrame()\n",
    "SCTcumulative_stop_delay = pd.DataFrame()\n",
    "SCTQueues = pd.DataFrame()\n",
    "\n",
    "SCTcumulative_delay['Time'] = Global_accumulated_delay['Time']\n",
    "SCTcumulative_stop_delay['Time'] = Global_accumulated_stop_delay['Time']\n",
    "SCTQueues['Time'] = Global_accumulated_stop_delay['Time']\n",
    "\n",
    "SCTcumulative_delay['MOVA Delay'] = Global_accumulated_delay['Global accumulated Delay']\n",
    "SCTcumulative_stop_delay['MOVA Stop Delay'] = Global_accumulated_stop_delay['Global accumulated stop Delay']\n",
    "SCTQueues['MOVA0'] = Queues['0']\n",
    "SCTQueues['MOVA1'] = Queues['3']\n",
    "SCTQueues['MOVA2'] = Queues['6']\n",
    "SCTQueues['MOVA3'] = Queues['9']\n"
   ]
  },
  {
   "cell_type": "markdown",
   "metadata": {
    "hidden": true
   },
   "source": [
    "Cyclic"
   ]
  },
  {
   "cell_type": "code",
   "execution_count": null,
   "metadata": {
    "hidden": true
   },
   "outputs": [],
   "source": [
    "Session_ID = \"Cyclic\""
   ]
  },
  {
   "cell_type": "code",
   "execution_count": null,
   "metadata": {
    "hidden": true
   },
   "outputs": [],
   "source": [
    "csv_delayPath = os.path.join(Result_Path, Session_ID,\\\n",
    "                        \"Total_Cumulative_Delay.csv\")  \n",
    "csv_stopPath = os.path.join(Result_Path, Session_ID,\\\n",
    "                        \"Total_Cumulative_stop_Delay.csv\") \n",
    "csv_queuesPath = os.path.join(Result_Path, Session_ID,\\\n",
    "                        \"Junction0_Queues.csv\") \n",
    "\n",
    "Global_accumulated_delay = pd.read_csv(csv_delayPath)\n",
    "Global_accumulated_stop_delay = pd.read_csv(csv_stopPath)\n",
    "Queues = pd.read_csv(csv_queuesPath)"
   ]
  },
  {
   "cell_type": "code",
   "execution_count": null,
   "metadata": {
    "hidden": true
   },
   "outputs": [],
   "source": [
    "SCTcumulative_delay['Cyclic Delay'] = Global_accumulated_delay['Global accumulated Delay']\n",
    "SCTcumulative_stop_delay['Cyclic Stop Delay'] = Global_accumulated_stop_delay['Global accumulated stop Delay']\n",
    "\n",
    "SCTQueues['Cyclic0'] = Queues['0']\n",
    "SCTQueues['Cyclic1'] = Queues['3']\n",
    "SCTQueues['Cyclic2'] = Queues['6']\n",
    "SCTQueues['Cyclic3'] = Queues['9']"
   ]
  },
  {
   "cell_type": "code",
   "execution_count": null,
   "metadata": {
    "hidden": true
   },
   "outputs": [],
   "source": []
  },
  {
   "cell_type": "markdown",
   "metadata": {
    "hidden": true
   },
   "source": [
    "DuelingDDQN"
   ]
  },
  {
   "cell_type": "code",
   "execution_count": null,
   "metadata": {
    "hidden": true
   },
   "outputs": [],
   "source": [
    "Session_ID1 = \"Single_Cross_Triple8_actions_DuelingDDQN20c0\" \n",
    "Session_ID2 = \"Single_Cross_Triple8_actions_DuelingDDQN20c1\" \n",
    "Session_ID3 = \"Single_Cross_Triple8_actions_DuelingDDQN20c2\" \n",
    "\n",
    "csv_delayPath1 = os.path.join(Result_Path, Session_ID1,\\\n",
    "                        \"Total_Cumulative_Delay.csv\")  \n",
    "csv_delayPath2 = os.path.join(Result_Path, Session_ID2,\\\n",
    "                        \"Total_Cumulative_Delay.csv\")  \n",
    "csv_delayPath3 = os.path.join(Result_Path, Session_ID3,\\\n",
    "                        \"Total_Cumulative_Delay.csv\")  \n",
    "\n",
    "\n",
    "csv_stopPath1 = os.path.join(Result_Path, Session_ID1,\\\n",
    "                        \"Total_Cumulative_stop_Delay.csv\")  \n",
    "csv_stopPath2 = os.path.join(Result_Path, Session_ID2,\\\n",
    "                        \"Total_Cumulative_stop_Delay.csv\")\n",
    "csv_stopPath3 = os.path.join(Result_Path, Session_ID3,\\\n",
    "                        \"Total_Cumulative_stop_Delay.csv\")\n",
    "\n",
    "csv_queuesPath = os.path.join(Result_Path, Session_ID1,\\\n",
    "                        \"Junction0_Queues.csv\") \n",
    "\n",
    "\n",
    "\n",
    "Global_accumulated_delay1 = pd.read_csv(csv_delayPath1)\n",
    "Global_accumulated_stop_delay1 = pd.read_csv(csv_stopPath1)\n",
    "\n",
    "Global_accumulated_delay2 = pd.read_csv(csv_delayPath2)\n",
    "Global_accumulated_stop_delay2 = pd.read_csv(csv_stopPath2)\n",
    "\n",
    "Global_accumulated_delay3 = pd.read_csv(csv_delayPath3)\n",
    "Global_accumulated_stop_delay3 = pd.read_csv(csv_stopPath3)\n",
    "\n",
    "Queues = pd.read_csv(csv_queuesPath)"
   ]
  },
  {
   "cell_type": "code",
   "execution_count": null,
   "metadata": {
    "hidden": true
   },
   "outputs": [],
   "source": [
    "SCTcumulative_delay['DuelingDDQN Delay'] = (Global_accumulated_delay1['Global accumulated Delay']+Global_accumulated_delay2['Global accumulated Delay']+Global_accumulated_delay3['Global accumulated Delay'])/3\n",
    "SCTcumulative_stop_delay['DuelingDDQN Stop Delay'] =  (Global_accumulated_stop_delay1['Global accumulated stop Delay']+Global_accumulated_stop_delay2['Global accumulated stop Delay']+Global_accumulated_stop_delay3['Global accumulated stop Delay'])/3\n",
    "\n",
    "SCTQueues['DuellingDDQN0'] = Queues['0']\n",
    "SCTQueues['DuellingDDQN1'] = Queues['3']\n",
    "SCTQueues['DuellingDDQN2'] = Queues['6']\n",
    "SCTQueues['DuellingDDQN3'] = Queues['9']"
   ]
  },
  {
   "cell_type": "markdown",
   "metadata": {
    "hidden": true
   },
   "source": [
    "DuelingDQN"
   ]
  },
  {
   "cell_type": "code",
   "execution_count": null,
   "metadata": {
    "hidden": true
   },
   "outputs": [],
   "source": [
    "Session_ID1 = \"Single_Cross_Triple8_actions_DuelingDQN20c0\" \n",
    "Session_ID2 = \"Single_Cross_Triple8_actions_DuelingDQN20c1\" \n",
    "Session_ID3 = \"Single_Cross_Triple8_actions_DuelingDQN20c2\" \n",
    "\n",
    "csv_delayPath1 = os.path.join(Result_Path, Session_ID1,\\\n",
    "                        \"Total_Cumulative_Delay.csv\")  \n",
    "csv_delayPath2 = os.path.join(Result_Path, Session_ID2,\\\n",
    "                        \"Total_Cumulative_Delay.csv\")  \n",
    "csv_delayPath3 = os.path.join(Result_Path, Session_ID3,\\\n",
    "                        \"Total_Cumulative_Delay.csv\")  \n",
    "\n",
    "\n",
    "csv_stopPath1 = os.path.join(Result_Path, Session_ID1,\\\n",
    "                        \"Total_Cumulative_stop_Delay.csv\")  \n",
    "csv_stopPath2 = os.path.join(Result_Path, Session_ID2,\\\n",
    "                        \"Total_Cumulative_stop_Delay.csv\")\n",
    "csv_stopPath3 = os.path.join(Result_Path, Session_ID3,\\\n",
    "                        \"Total_Cumulative_stop_Delay.csv\")\n",
    "\n",
    "csv_queuesPath = os.path.join(Result_Path, Session_ID1,\\\n",
    "                        \"Junction0_Queues.csv\") \n",
    "\n",
    "\n",
    "\n",
    "\n",
    "Global_accumulated_delay1 = pd.read_csv(csv_delayPath1)\n",
    "Global_accumulated_stop_delay1 = pd.read_csv(csv_stopPath1)\n",
    "\n",
    "Global_accumulated_delay2 = pd.read_csv(csv_delayPath2)\n",
    "Global_accumulated_stop_delay2 = pd.read_csv(csv_stopPath2)\n",
    "\n",
    "Global_accumulated_delay3 = pd.read_csv(csv_delayPath3)\n",
    "Global_accumulated_stop_delay3 = pd.read_csv(csv_stopPath3)\n",
    "\n",
    "Queues = pd.read_csv(csv_queuesPath)"
   ]
  },
  {
   "cell_type": "code",
   "execution_count": null,
   "metadata": {
    "hidden": true
   },
   "outputs": [],
   "source": [
    "SCTcumulative_delay['DuelingDQN Delay'] = (Global_accumulated_delay1['Global accumulated Delay']+Global_accumulated_delay2['Global accumulated Delay'])/2\n",
    "SCTcumulative_stop_delay['DuelingDQN Stop Delay'] =  (Global_accumulated_stop_delay1['Global accumulated stop Delay']+Global_accumulated_stop_delay2['Global accumulated stop Delay'])/2\n",
    "\n",
    "SCTQueues['DuellingDQN0'] = Queues['0']\n",
    "SCTQueues['DuellingDQN1'] = Queues['3']\n",
    "SCTQueues['DuellingDQN2'] = Queues['6']\n",
    "SCTQueues['DuellingDQN3'] = Queues['9']"
   ]
  },
  {
   "cell_type": "code",
   "execution_count": null,
   "metadata": {
    "hidden": true
   },
   "outputs": [],
   "source": []
  },
  {
   "cell_type": "code",
   "execution_count": null,
   "metadata": {
    "hidden": true
   },
   "outputs": [],
   "source": [
    "SCTcumulative_delay.to_csv('SCTcumulative_delay.csv',index=False)\n",
    "SCTcumulative_stop_delay.to_csv('SCTcumulative_stop_delay.csv',index=False)\n",
    "#SCTQueues.to_csv('SCTQueues.csv',index=False)"
   ]
  },
  {
   "cell_type": "markdown",
   "metadata": {
    "hidden": true
   },
   "source": [
    "Get the cumulative delay plot"
   ]
  },
  {
   "cell_type": "code",
   "execution_count": null,
   "metadata": {
    "hidden": true
   },
   "outputs": [],
   "source": [
    "plt.figure(3,figsize=(16, 9))\n",
    "\n",
    "plt.plot(SCTcumulative_delay['Time'],SCTcumulative_delay['DuelingDQN Delay'],linewidth=3.0, label = 'DuellingDQN' )\n",
    "plt.plot(SCTcumulative_delay['Time'],SCTcumulative_delay['DuelingDDQN Delay'],linewidth=3.0, label = 'DuellingDDQN' )\n",
    "\n",
    "plt.plot(SCTcumulative_delay['Time'],SCTcumulative_delay['MOVA Delay'],linewidth=3.0, label = 'MOVA' )\n",
    "#plt.plot(SCTcumulative_delay['Time'],SCTcumulative_delay['Cyclic Delay'],linewidth=3.0, label = 'Cyclic' )\n",
    "\n",
    "\n",
    "plt.rc('xtick',labelsize=15)\n",
    "plt.rc('ytick',labelsize=15)\n",
    "plt.xlabel('Time [s]',fontsize=18)\n",
    "plt.ylabel('Global accumulated Delay [s]',fontsize=18)\n",
    "plt.title('Global accumulated Delay on Single Cross Triple',fontsize=18)\n",
    "\n",
    "plt.legend()\n",
    "\n",
    "plt.savefig(\"SCT Delay\")"
   ]
  },
  {
   "cell_type": "markdown",
   "metadata": {
    "hidden": true
   },
   "source": [
    "Get the cumulative stop delay plot"
   ]
  },
  {
   "cell_type": "code",
   "execution_count": null,
   "metadata": {
    "hidden": true
   },
   "outputs": [],
   "source": [
    "plt.figure(4,figsize=(16, 9))\n",
    "\n",
    "plt.plot(SCScumulative_stop_delay['Time'],SCTcumulative_stop_delay['DuelingDQN Stop Delay'],linewidth=3.0, label = 'DuellingDQN' )\n",
    "plt.plot(SCScumulative_stop_delay['Time'],SCTcumulative_stop_delay['DuelingDDQN Stop Delay'],linewidth=3.0, label = 'DuellingDDQN' )\n",
    "\n",
    "plt.plot(SCScumulative_stop_delay['Time'],SCTcumulative_stop_delay['MOVA Stop Delay'],linewidth=3.0, label = 'MOVA' )\n",
    "#plt.plot(SCScumulative_stop_delay['Time'],SCTcumulative_stop_delay['Cyclic Stop Delay'],linewidth=3.0, label = 'Cyclic' )\n",
    "\n",
    "\n",
    "plt.rc('xtick',labelsize=15)\n",
    "plt.rc('ytick',labelsize=15)\n",
    "plt.xlabel('Time [s]',fontsize=18)\n",
    "plt.ylabel('Global accumulated Stop Delay [s]',fontsize=18)\n",
    "plt.title('Global accumulated Stop Delay on Single Cross Triple',fontsize=18)\n",
    "\n",
    "plt.legend()\n",
    "plt.savefig(\"SCT Stop Delay\")"
   ]
  },
  {
   "cell_type": "markdown",
   "metadata": {
    "hidden": true
   },
   "source": [
    "MOVA queues"
   ]
  },
  {
   "cell_type": "code",
   "execution_count": null,
   "metadata": {
    "hidden": true
   },
   "outputs": [],
   "source": [
    "plt.figure(5,figsize=(16, 9))\n",
    "\n",
    "plt.plot(SCTQueues['Time'],SCTQueues['MOVA0'],linewidth=2.0, label = 'West' )\n",
    "plt.plot(SCTQueues['Time'],SCTQueues['MOVA1'],linewidth=2.0, label = 'South' )\n",
    "plt.plot(SCTQueues['Time'],SCTQueues['MOVA2'],linewidth=2.0, label = 'East' )\n",
    "plt.plot(SCTQueues['Time'],SCTQueues['MOVA3'],linewidth=2.0, label = 'North' )\n",
    "#plt.plot(SCScumulative_stop_delay['Time'],SCTcumulative_stop_delay['Cyclic Stop Delay'],linewidth=3.0, label = 'Cyclic' )\n",
    "\n",
    "\n",
    "plt.rc('xtick',labelsize=15)\n",
    "plt.rc('ytick',labelsize=15)\n",
    "plt.xlabel('Time [s]',fontsize=18)\n",
    "plt.ylabel('Queues lenght [m]',fontsize=18)\n",
    "plt.title('MOVA Queues over time',fontsize=18)\n",
    "\n",
    "plt.legend()\n",
    "plt.savefig(\"MOVA SCT Queues\")"
   ]
  },
  {
   "cell_type": "markdown",
   "metadata": {
    "hidden": true
   },
   "source": [
    "DuelingDDQN Queues "
   ]
  },
  {
   "cell_type": "code",
   "execution_count": null,
   "metadata": {
    "hidden": true
   },
   "outputs": [],
   "source": [
    "plt.figure(6,figsize=(16, 9))\n",
    "\n",
    "plt.plot(SCTQueues['Time'],SCTQueues['DuellingDDQN0'],linewidth=2.0, label = 'West' )\n",
    "plt.plot(SCTQueues['Time'],SCTQueues['DuellingDDQN1'],linewidth=2.0, label = 'South' )\n",
    "plt.plot(SCTQueues['Time'],SCTQueues['DuellingDDQN2'],linewidth=2.0, label = 'East' )\n",
    "plt.plot(SCTQueues['Time'],SCTQueues['DuellingDDQN3'],linewidth=2.0, label = 'North' )\n",
    "#plt.plot(SCScumulative_stop_delay['Time'],SCTcumulative_stop_delay['Cyclic Stop Delay'],linewidth=3.0, label = 'Cyclic' )\n",
    "\n",
    "\n",
    "plt.rc('xtick',labelsize=15)\n",
    "plt.rc('ytick',labelsize=15)\n",
    "plt.xlabel('Time [s]',fontsize=18)\n",
    "plt.ylabel('Queues lenght [m]',fontsize=18)\n",
    "plt.title('Duelling DDQN Queues over time',fontsize=18)\n",
    "\n",
    "plt.legend()\n",
    "plt.savefig(\"Duelling DDQN SCT Queues\")"
   ]
  },
  {
   "cell_type": "code",
   "execution_count": null,
   "metadata": {
    "hidden": true
   },
   "outputs": [],
   "source": [
    "DuelingDQN Queues"
   ]
  },
  {
   "cell_type": "code",
   "execution_count": null,
   "metadata": {
    "hidden": true
   },
   "outputs": [],
   "source": [
    "plt.figure(7,figsize=(16, 9))\n",
    "\n",
    "plt.plot(SCTQueues['Time'],SCTQueues['DuellingDQN0'],linewidth=2.0, label = 'West' )\n",
    "plt.plot(SCTQueues['Time'],SCTQueues['DuellingDQN1'],linewidth=2.0, label = 'South' )\n",
    "plt.plot(SCTQueues['Time'],SCTQueues['DuellingDQN2'],linewidth=2.0, label = 'East' )\n",
    "plt.plot(SCTQueues['Time'],SCTQueues['DuellingDQN3'],linewidth=2.0, label = 'North' )\n",
    "#plt.plot(SCScumulative_stop_delay['Time'],SCTcumulative_stop_delay['Cyclic Stop Delay'],linewidth=3.0, label = 'Cyclic' )\n",
    "\n",
    "\n",
    "plt.rc('xtick',labelsize=15)\n",
    "plt.rc('ytick',labelsize=15)\n",
    "plt.xlabel('Time [s]',fontsize=18)\n",
    "plt.ylabel('Queues lenght [m]',fontsize=18)\n",
    "plt.title('Duelling DQN Queues over time',fontsize=18)\n",
    "\n",
    "plt.legend()\n",
    "plt.savefig(\"Duelling DQN SCT Queues\")"
   ]
  },
  {
   "cell_type": "markdown",
   "metadata": {
    "hidden": true
   },
   "source": []
  },
  {
   "cell_type": "markdown",
   "metadata": {
    "heading_collapsed": true
   },
   "source": [
    "# Single Cross Triple 12 Queues"
   ]
  },
  {
   "cell_type": "code",
   "execution_count": null,
   "metadata": {
    "hidden": true
   },
   "outputs": [],
   "source": [
    "model_name  = 'Single_Cross_Triple'\n",
    "Result_Path = 'Agents_ResultsTriple'"
   ]
  },
  {
   "cell_type": "code",
   "execution_count": null,
   "metadata": {
    "hidden": true
   },
   "outputs": [],
   "source": [
    "Session_ID = \"MOVAnew\"\n",
    "\n",
    "csv_delayPath = os.path.join(Result_Path, Session_ID,\\\n",
    "                        \"Total_Cumulative_Delay.csv\")  \n",
    "csv_stopPath = os.path.join(Result_Path, Session_ID,\\\n",
    "                        \"Total_Cumulative_stop_Delay.csv\") \n",
    "\n",
    "csv_queuesPath = os.path.join(Result_Path, Session_ID,\\\n",
    "                        \"Junction0_Queues.csv\") \n",
    "\n",
    "\n",
    "\n",
    "Global_accumulated_delay = pd.read_csv(csv_delayPath)\n",
    "Global_accumulated_stop_delay = pd.read_csv(csv_stopPath)\n",
    "Queues = pd.read_csv(csv_queuesPath)\n",
    "\n",
    "SCTcumulative_delay = pd.DataFrame()\n",
    "SCTcumulative_stop_delay = pd.DataFrame()\n",
    "SCTQueues = pd.DataFrame()\n",
    "\n",
    "SCTcumulative_delay['Time'] = Global_accumulated_delay['Time']\n",
    "SCTcumulative_stop_delay['Time'] = Global_accumulated_stop_delay['Time']\n",
    "SCTQueues['Time'] = Global_accumulated_stop_delay['Time']\n",
    "\n",
    "SCTcumulative_delay['MOVA Delay'] = Global_accumulated_delay['Global accumulated Delay']\n",
    "SCTcumulative_stop_delay['MOVA Stop Delay'] = Global_accumulated_stop_delay['Global accumulated stop Delay']\n",
    "SCTQueues['MOVA0'] = Queues['0']\n",
    "SCTQueues['MOVA1'] = Queues['3']\n",
    "SCTQueues['MOVA2'] = Queues['6']\n",
    "SCTQueues['MOVA3'] = Queues['9']\n"
   ]
  },
  {
   "cell_type": "markdown",
   "metadata": {
    "hidden": true
   },
   "source": [
    "Duelling DQN 11"
   ]
  },
  {
   "cell_type": "code",
   "execution_count": null,
   "metadata": {
    "hidden": true
   },
   "outputs": [],
   "source": [
    "Session_ID1 = \"Single_Cross_Triple8_actions_DuelingDQN20c8\" \n",
    "\n",
    "\n",
    "csv_delayPath1 = os.path.join(Result_Path, Session_ID1,\\\n",
    "                        \"Total_Cumulative_Delay.csv\")  \n",
    "\n",
    "\n",
    "\n",
    "csv_stopPath1 = os.path.join(Result_Path, Session_ID1,\\\n",
    "                        \"Total_Cumulative_stop_Delay.csv\")  \n",
    "\n",
    "csv_queuesPath = os.path.join(Result_Path, Session_ID1,\\\n",
    "                        \"Junction0_Queues.csv\") \n",
    "\n",
    "\n",
    "\n",
    "Global_accumulated_delay1 = pd.read_csv(csv_delayPath1)\n",
    "Global_accumulated_stop_delay1 = pd.read_csv(csv_stopPath1)\n",
    "\n",
    "\n",
    "Queues = pd.read_csv(csv_queuesPath)"
   ]
  },
  {
   "cell_type": "code",
   "execution_count": null,
   "metadata": {
    "hidden": true
   },
   "outputs": [],
   "source": [
    "SCTcumulative_delay['DuelingDQN11 Delay'] = Global_accumulated_delay1['Global accumulated Delay']\n",
    "SCTcumulative_stop_delay['DuelingDQN11 Stop Delay'] =  Global_accumulated_stop_delay1['Global accumulated stop Delay']\n",
    "\n",
    "SCTQueues['DuellingDQN110'] = Queues['0']\n",
    "SCTQueues['DuellingDQN111'] = Queues['3']\n",
    "SCTQueues['DuellingDQN112'] = Queues['6']\n",
    "SCTQueues['DuellingDQN113'] = Queues['9']"
   ]
  },
  {
   "cell_type": "markdown",
   "metadata": {
    "hidden": true
   },
   "source": [
    "Duelling DDQN 11"
   ]
  },
  {
   "cell_type": "code",
   "execution_count": null,
   "metadata": {
    "hidden": true
   },
   "outputs": [],
   "source": [
    "Session_ID1 = \"Single_Cross_Triple8_actions_DuelingDDQN20c8\" \n",
    "\n",
    "csv_delayPath1 = os.path.join(Result_Path, Session_ID1,\\\n",
    "                        \"Total_Cumulative_Delay.csv\")  \n",
    "\n",
    "\n",
    "\n",
    "csv_stopPath1 = os.path.join(Result_Path, Session_ID1,\\\n",
    "                        \"Total_Cumulative_stop_Delay.csv\")  \n",
    "\n",
    "\n",
    "csv_queuesPath = os.path.join(Result_Path, Session_ID1,\\\n",
    "                        \"Junction0_Queues.csv\") \n",
    "\n",
    "\n",
    "\n",
    "\n",
    "Global_accumulated_delay1 = pd.read_csv(csv_delayPath1)\n",
    "Global_accumulated_stop_delay1 = pd.read_csv(csv_stopPath1)\n",
    "\n",
    "\n",
    "\n",
    "Queues = pd.read_csv(csv_queuesPath)\n",
    "\n",
    "SCTcumulative_delay['DuelingDDQN11 Delay'] = Global_accumulated_delay1['Global accumulated Delay']\n",
    "SCTcumulative_stop_delay['DuelingDDQN11 Stop Delay'] =  Global_accumulated_stop_delay1['Global accumulated stop Delay']\n",
    "\n",
    "SCTQueues['DuellingDDQN110'] = Queues['0']\n",
    "SCTQueues['DuellingDDQN111'] = Queues['3']\n",
    "SCTQueues['DuellingDDQN112'] = Queues['6']\n",
    "SCTQueues['DuellingDDQN113'] = Queues['9']"
   ]
  },
  {
   "cell_type": "markdown",
   "metadata": {
    "hidden": true
   },
   "source": [
    "Duelling DQN 12"
   ]
  },
  {
   "cell_type": "code",
   "execution_count": null,
   "metadata": {
    "hidden": true
   },
   "outputs": [],
   "source": [
    "Session_ID1 = \"Single_Cross_Triple8_actions_DuelingDQN20c10\" \n",
    "\n",
    "\n",
    "csv_delayPath1 = os.path.join(Result_Path, Session_ID1,\\\n",
    "                        \"Total_Cumulative_Delay.csv\")  \n",
    "\n",
    "\n",
    "\n",
    "csv_stopPath1 = os.path.join(Result_Path, Session_ID1,\\\n",
    "                        \"Total_Cumulative_stop_Delay.csv\")  \n",
    "\n",
    "\n",
    "csv_queuesPath = os.path.join(Result_Path, Session_ID1,\\\n",
    "                        \"Junction0_Queues.csv\") \n",
    "\n",
    "\n",
    "\n",
    "Global_accumulated_delay1 = pd.read_csv(csv_delayPath1)\n",
    "Global_accumulated_stop_delay1 = pd.read_csv(csv_stopPath1)\n",
    "\n",
    "Queues = pd.read_csv(csv_queuesPath)\n",
    "\n",
    "SCTcumulative_delay['DuelingDQN12 Delay'] = Global_accumulated_delay1['Global accumulated Delay']\n",
    "SCTcumulative_stop_delay['DuelingDQN12 Stop Delay'] =  Global_accumulated_stop_delay1['Global accumulated stop Delay']\n",
    "\n",
    "SCTQueues['DuellingDQN120'] = Queues['0']\n",
    "SCTQueues['DuellingDQN121'] = Queues['3']\n",
    "SCTQueues['DuellingDQN122'] = Queues['6']\n",
    "SCTQueues['DuellingDQN123'] = Queues['9']"
   ]
  },
  {
   "cell_type": "markdown",
   "metadata": {
    "hidden": true
   },
   "source": [
    "Duelling DQN 12"
   ]
  },
  {
   "cell_type": "code",
   "execution_count": null,
   "metadata": {
    "hidden": true
   },
   "outputs": [],
   "source": [
    "Session_ID1 = \"Single_Cross_Triple8_actions_DuelingDDQN20c10\" \n",
    "\n",
    "\n",
    "csv_delayPath1 = os.path.join(Result_Path, Session_ID1,\\\n",
    "                        \"Total_Cumulative_Delay.csv\")  \n",
    "\n",
    "\n",
    "\n",
    "csv_stopPath1 = os.path.join(Result_Path, Session_ID1,\\\n",
    "                        \"Total_Cumulative_stop_Delay.csv\")  \n",
    "\n",
    "\n",
    "csv_queuesPath = os.path.join(Result_Path, Session_ID1,\\\n",
    "                        \"Junction0_Queues.csv\") \n",
    "\n",
    "\n",
    "\n",
    "Global_accumulated_delay1 = pd.read_csv(csv_delayPath1)\n",
    "Global_accumulated_stop_delay1 = pd.read_csv(csv_stopPath1)\n",
    "\n",
    "\n",
    "\n",
    "Queues = pd.read_csv(csv_queuesPath)\n",
    "\n",
    "SCTcumulative_delay['DuelingDDQN12 Delay'] = Global_accumulated_delay1['Global accumulated Delay']\n",
    "SCTcumulative_stop_delay['DuelingDDQN12 Stop Delay'] =  Global_accumulated_stop_delay1['Global accumulated stop Delay']\n",
    "\n",
    "SCTQueues['DuellingDQN120'] = Queues['0']\n",
    "SCTQueues['DuellingDQN121'] = Queues['3']\n",
    "SCTQueues['DuellingDQN122'] = Queues['6']\n",
    "SCTQueues['DuellingDQN123'] = Queues['9']"
   ]
  },
  {
   "cell_type": "code",
   "execution_count": null,
   "metadata": {
    "hidden": true
   },
   "outputs": [],
   "source": []
  },
  {
   "cell_type": "code",
   "execution_count": null,
   "metadata": {
    "hidden": true
   },
   "outputs": [],
   "source": [
    "SCTcumulative_delay.to_csv('SCT12cumulative_delay.csv',index=False)\n",
    "SCTcumulative_stop_delay.to_csv('SCT12cumulative_stop_delay.csv',index=False)\n",
    "SCTQueues.to_csv('SCT12Queues.csv',index=False)"
   ]
  },
  {
   "cell_type": "code",
   "execution_count": null,
   "metadata": {
    "hidden": true
   },
   "outputs": [],
   "source": []
  },
  {
   "cell_type": "code",
   "execution_count": null,
   "metadata": {
    "hidden": true
   },
   "outputs": [],
   "source": []
  },
  {
   "cell_type": "code",
   "execution_count": null,
   "metadata": {
    "hidden": true
   },
   "outputs": [],
   "source": []
  },
  {
   "cell_type": "code",
   "execution_count": null,
   "metadata": {
    "hidden": true
   },
   "outputs": [],
   "source": []
  },
  {
   "cell_type": "code",
   "execution_count": null,
   "metadata": {
    "hidden": true
   },
   "outputs": [],
   "source": [
    "plt.figure(3,figsize=(16, 9))\n",
    "\n",
    "plt.plot(SCTcumulative_delay['Time'], SCTcumulative_delay['DuelingDQN11 Delay'],linewidth=3.0, label = 'DuellingDQN11' )\n",
    "plt.plot(SCTcumulative_delay['Time'], SCTcumulative_delay['DuelingDDQN11 Delay'],linewidth=3.0, label = 'DuellingDDQN11' )\n",
    "\n",
    "plt.plot(SCTcumulative_delay['Time'], SCTcumulative_delay['DuelingDQN12 Delay'],linewidth=3.0, label = 'DuellingDQN12' )\n",
    "plt.plot(SCTcumulative_delay['Time'], SCTcumulative_delay['DuelingDDQN12 Delay'],linewidth=3.0, label = 'DuellingDDQN12' )\n",
    "\n",
    "plt.plot(SCTcumulative_delay['Time'], SCTcumulative_delay['MOVA Delay'],linewidth=3.0, label = 'MOVA' )\n",
    "#plt.plot(SCTcumulative_delay['Time'],SCTcumulative_delay['Cyclic Delay'],linewidth=3.0, label = 'Cyclic' )\n",
    "\n",
    "\n",
    "plt.rc('xtick',labelsize=15)\n",
    "plt.rc('ytick',labelsize=15)\n",
    "plt.xlabel('Time [s]',fontsize=18)\n",
    "plt.ylabel('Global accumulated Delay [s]',fontsize=18)\n",
    "plt.title('Global accumulated Delay on Single Cross Triple',fontsize=18)\n",
    "\n",
    "plt.legend()\n",
    "\n",
    "plt.savefig(\"SCTnew_Delay\")"
   ]
  },
  {
   "cell_type": "code",
   "execution_count": null,
   "metadata": {
    "hidden": true
   },
   "outputs": [],
   "source": []
  },
  {
   "cell_type": "code",
   "execution_count": null,
   "metadata": {
    "hidden": true
   },
   "outputs": [],
   "source": [
    "plt.figure(4,figsize=(16, 9))\n",
    "\n",
    "plt.plot(SCTcumulative_stop_delay['Time'],SCTcumulative_stop_delay['DuelingDQN11 Stop Delay'],linewidth=3.0, label = 'DuellingDQN11' )\n",
    "plt.plot(SCTcumulative_stop_delay['Time'],SCTcumulative_stop_delay['DuelingDDQN11 Stop Delay'],linewidth=3.0, label = 'DuellingDDQN11' )\n",
    "plt.plot(SCTcumulative_stop_delay['Time'],SCTcumulative_stop_delay['DuelingDQN12 Stop Delay'],linewidth=3.0, label = 'DuellingDQN12' )\n",
    "plt.plot(SCTcumulative_stop_delay['Time'],SCTcumulative_stop_delay['DuelingDDQN12 Stop Delay'],linewidth=3.0, label = 'DuellingDDQN12' )\n",
    "\n",
    "plt.plot(SCTcumulative_stop_delay['Time'],SCTcumulative_stop_delay['MOVA Stop Delay'],linewidth=3.0, label = 'MOVA' )\n",
    "\n",
    "\n",
    "\n",
    "plt.rc('xtick',labelsize=15)\n",
    "plt.rc('ytick',labelsize=15)\n",
    "plt.xlabel('Time [s]',fontsize=18)\n",
    "plt.ylabel('Global accumulated Stop Delay [s]',fontsize=18)\n",
    "plt.title('Global accumulated Stop Delay on Single Cross Triple',fontsize=18)\n",
    "\n",
    "plt.legend()\n",
    "plt.savefig(\"SCTnew_Stop_Delay\")"
   ]
  },
  {
   "cell_type": "code",
   "execution_count": null,
   "metadata": {
    "hidden": true
   },
   "outputs": [],
   "source": []
  },
  {
   "cell_type": "code",
   "execution_count": null,
   "metadata": {
    "hidden": true
   },
   "outputs": [],
   "source": []
  },
  {
   "cell_type": "markdown",
   "metadata": {},
   "source": [
    "# Five Intersection "
   ]
  },
  {
   "cell_type": "code",
   "execution_count": null,
   "metadata": {},
   "outputs": [],
   "source": [
    "model_name  = 'Single_Cross_Triple'\n",
    "Result_Path = 'Agents_ResultsFive'\n"
   ]
  },
  {
   "cell_type": "code",
   "execution_count": null,
   "metadata": {},
   "outputs": [],
   "source": [
    "Session_ID = \"MOVA5\"\n",
    "\n",
    "csv_delayPath = os.path.join(Result_Path, Session_ID,\\\n",
    "                        \"Total_Cumulative_Delay.csv\")  \n",
    "csv_stopPath = os.path.join(Result_Path, Session_ID,\\\n",
    "                        \"Total_Cumulative_stop_Delay.csv\") \n",
    "\n",
    "csv_queuesPath = os.path.join(Result_Path, Session_ID,\\\n",
    "                        \"Junction0_Queues.csv\") \n",
    "\n",
    "\n",
    "\n",
    "Global_accumulated_delay = pd.read_csv(csv_delayPath)\n",
    "Global_accumulated_stop_delay = pd.read_csv(csv_stopPath)\n",
    "Queues = pd.read_csv(csv_queuesPath)\n",
    "\n",
    "FIcumulative_delay = pd.DataFrame()\n",
    "FIcumulative_stop_delay = pd.DataFrame()\n",
    "FIQueues = pd.DataFrame()\n",
    "\n",
    "FIcumulative_delay['Time'] = Global_accumulated_delay['Time']\n",
    "FIcumulative_stop_delay['Time'] = Global_accumulated_stop_delay['Time']\n",
    "FIQueues['Time'] = Global_accumulated_stop_delay['Time']\n",
    "\n",
    "FIcumulative_delay['MOVA Delay'] = Global_accumulated_delay['Global accumulated Delay']\n",
    "FIcumulative_stop_delay['MOVA Stop Delay'] = Global_accumulated_stop_delay['Global accumulated stop Delay']\n",
    "FIQueues['MOVA0'] = Queues['0']\n",
    "FIQueues['MOVA1'] = Queues['3']\n",
    "FIQueues['MOVA2'] = Queues['6']\n",
    "FIQueues['MOVA3'] = Queues['9']"
   ]
  },
  {
   "cell_type": "code",
   "execution_count": null,
   "metadata": {},
   "outputs": [],
   "source": []
  },
  {
   "cell_type": "markdown",
   "metadata": {},
   "source": [
    "Transfer learning 5"
   ]
  },
  {
   "cell_type": "code",
   "execution_count": null,
   "metadata": {},
   "outputs": [],
   "source": [
    "Session_ID1 = \"Five5transfert\"\n",
    "\n",
    "csv_delayPath1 = os.path.join(Result_Path, Session_ID1,\\\n",
    "                        \"Total_Cumulative_Delay.csv\")  \n",
    "\n",
    "\n",
    "\n",
    "csv_stopPath1 = os.path.join(Result_Path, Session_ID1,\\\n",
    "                        \"Total_Cumulative_stop_Delay.csv\")  \n",
    "\n",
    "\n",
    "csv_queuesPath = os.path.join(Result_Path, Session_ID1,\\\n",
    "                        \"Junction0_Queues.csv\") \n",
    "\n",
    "\n",
    "\n",
    "Global_accumulated_delay1 = pd.read_csv(csv_delayPath1)\n",
    "Global_accumulated_stop_delay1 = pd.read_csv(csv_stopPath1)\n",
    "\n",
    "Queues = pd.read_csv(csv_queuesPath)"
   ]
  },
  {
   "cell_type": "code",
   "execution_count": null,
   "metadata": {},
   "outputs": [],
   "source": [
    "FIcumulative_delay['Transfert5 Delay'] = Global_accumulated_delay1['Global accumulated Delay']\n",
    "FIcumulative_stop_delay['Transfert5 Stop Delay'] =  Global_accumulated_stop_delay1['Global accumulated stop Delay']\n",
    "\n",
    "FIQueues['Transfert50'] = Queues['0']\n",
    "FIQueues['Transfert51'] = Queues['3']\n",
    "FIQueues['Transfert52'] = Queues['6']\n",
    "FIQueues['Transfert53'] = Queues['9']"
   ]
  },
  {
   "cell_type": "code",
   "execution_count": null,
   "metadata": {},
   "outputs": [],
   "source": []
  },
  {
   "cell_type": "markdown",
   "metadata": {},
   "source": [
    "5 duellingDDQN trained from scratch"
   ]
  },
  {
   "cell_type": "code",
   "execution_count": null,
   "metadata": {},
   "outputs": [],
   "source": [
    "Session_ID1 = \"FiveintersectionDQN\" \n",
    "\n",
    "csv_delayPath1 = os.path.join(Result_Path, Session_ID1,\\\n",
    "                        \"Total_Cumulative_Delay.csv\")  \n",
    "\n",
    "\n",
    "\n",
    "csv_stopPath1 = os.path.join(Result_Path, Session_ID1,\\\n",
    "                        \"Total_Cumulative_stop_Delay.csv\")  \n",
    "\n",
    "\n",
    "csv_queuesPath = os.path.join(Result_Path, Session_ID1,\\\n",
    "                        \"Junction0_Queues.csv\") \n",
    "\n",
    "\n",
    "\n",
    "Global_accumulated_delay1 = pd.read_csv(csv_delayPath1)\n",
    "Global_accumulated_stop_delay1 = pd.read_csv(csv_stopPath1)\n",
    "\n",
    "Queues = pd.read_csv(csv_queuesPath)"
   ]
  },
  {
   "cell_type": "code",
   "execution_count": null,
   "metadata": {},
   "outputs": [],
   "source": [
    "FIcumulative_delay['5duellingDDQN Delay'] = Global_accumulated_delay1['Global accumulated Delay']\n",
    "FIcumulative_stop_delay['5duellingDDQN Stop Delay'] =  Global_accumulated_stop_delay1['Global accumulated stop Delay']\n",
    "\n",
    "FIQueues['5duellingDDQN0'] = Queues['0']\n",
    "FIQueues['5duellingDDQN1'] = Queues['3']\n",
    "FIQueues['5duellingDDQN2'] = Queues['6']\n",
    "FIQueues['5duellingDDQN3'] = Queues['9']"
   ]
  },
  {
   "cell_type": "code",
   "execution_count": null,
   "metadata": {},
   "outputs": [],
   "source": [
    "FIcumulative_delay.to_csv('FIcumulative_delay.csv',index=False)\n",
    "FIcumulative_stop_delay.to_csv('FIcumulative_stop_delay.csv',index=False)\n",
    "FIQueues.to_csv('FIQueues.csv',index=False)"
   ]
  },
  {
   "cell_type": "code",
   "execution_count": null,
   "metadata": {},
   "outputs": [],
   "source": [
    "plt.figure(3,figsize=(16, 9))\n",
    "\n",
    "plt.plot(FIcumulative_delay['Time'],FIcumulative_delay['5duellingDDQN Delay'],linewidth=3.0, label = '5duellingDDQN' )\n",
    "plt.plot(FIcumulative_delay['Time'],FIcumulative_delay['Transfert5 Delay'],linewidth=3.0, label = '5 Transfert learning agents duellingDDQN11' )\n",
    "\n",
    "plt.plot(FIcumulative_delay['Time'],FIcumulative_delay['MOVA Delay'],linewidth=3.0, label = '5 MOVA' )\n",
    "\n",
    "\n",
    "\n",
    "plt.rc('xtick',labelsize=15)\n",
    "plt.rc('ytick',labelsize=15)\n",
    "plt.xlabel('Time [s]',fontsize=18)\n",
    "plt.ylabel('Global accumulated Delay [s]',fontsize=18)\n",
    "plt.title('Global accumulated Delay on Five intersection',fontsize=18)\n",
    "\n",
    "plt.legend()\n",
    "\n",
    "plt.savefig(\"FI_Delay2\")"
   ]
  },
  {
   "cell_type": "code",
   "execution_count": null,
   "metadata": {},
   "outputs": [],
   "source": [
    "plt.figure(4,figsize=(16, 9))\n",
    "\n",
    "plt.plot(FIcumulative_delay['Time'],FIcumulative_stop_delay['5duellingDDQN Stop Delay'],linewidth=3.0, label = '5duellingDDQN' )\n",
    "plt.plot(FIcumulative_delay['Time'],FIcumulative_stop_delay['Transfert5 Stop Delay'],linewidth=3.0, label = '5 Transfert learning agents duellingDDQN11' )\n",
    "\n",
    "plt.plot(FIcumulative_delay['Time'],FIcumulative_stop_delay['MOVA Stop Delay'],linewidth=3.0, label = '5 MOVA' )\n",
    "\n",
    "\n",
    "plt.rc('xtick',labelsize=15)\n",
    "plt.rc('ytick',labelsize=15)\n",
    "plt.xlabel('Time [s]',fontsize=18)\n",
    "plt.ylabel('Global accumulated Stop Delay [s]',fontsize=18)\n",
    "plt.title('Global accumulated Stop Delay on Five intersection',fontsize=18)\n",
    "\n",
    "plt.legend()\n",
    "plt.savefig(\"FI_Stop_Delay2\")"
   ]
  },
  {
   "cell_type": "markdown",
   "metadata": {},
   "source": [
    "MOVA"
   ]
  },
  {
   "cell_type": "code",
   "execution_count": null,
   "metadata": {},
   "outputs": [],
   "source": [
    "plt.figure(5,figsize=(16, 9))\n",
    "\n",
    "plt.plot(FIQueues['Time'],FIQueues['MOVA0'],linewidth=2.0, label = 'West' )\n",
    "plt.plot(FIQueues['Time'],FIQueues['MOVA1'],linewidth=2.0, label = 'South' )\n",
    "plt.plot(FIQueues['Time'],FIQueues['MOVA2'],linewidth=2.0, label = 'East' )\n",
    "plt.plot(FIQueues['Time'],FIQueues['MOVA3'],linewidth=2.0, label = 'North' )\n",
    "\n",
    "\n",
    "\n",
    "plt.rc('xtick',labelsize=15)\n",
    "plt.rc('ytick',labelsize=15)\n",
    "plt.xlabel('Time [s]',fontsize=18)\n",
    "plt.ylabel('Queues lenght [m]',fontsize=18)\n",
    "plt.title('MOVA Queues over time',fontsize=18)\n",
    "\n",
    "plt.legend()\n",
    "plt.savefig(\"MOVA FI Queues\")"
   ]
  },
  {
   "cell_type": "markdown",
   "metadata": {},
   "source": [
    "Five1"
   ]
  },
  {
   "cell_type": "code",
   "execution_count": null,
   "metadata": {},
   "outputs": [],
   "source": [
    "plt.figure(6,figsize=(16, 9))\n",
    "\n",
    "plt.plot(FIQueues['Time'],FIQueues['Transfert10'],linewidth=2.0, label = 'West' )\n",
    "plt.plot(FIQueues['Time'],FIQueues['Transfert11'],linewidth=2.0, label = 'South' )\n",
    "plt.plot(FIQueues['Time'],FIQueues['Transfert12'],linewidth=2.0, label = 'East' )\n",
    "plt.plot(FIQueues['Time'],FIQueues['Transfert13'],linewidth=2.0, label = 'North' )\n",
    "#plt.plot(SCScumulative_stop_delay['Time'],SCTcumulative_stop_delay['Cyclic Stop Delay'],linewidth=3.0, label = 'Cyclic' )\n",
    "\n",
    "\n",
    "plt.rc('xtick',labelsize=15)\n",
    "plt.rc('ytick',labelsize=15)\n",
    "plt.xlabel('Time [s]',fontsize=18)\n",
    "plt.ylabel('Queues lenght [m]',fontsize=18)\n",
    "plt.title('Five 1 Queues over time',fontsize=18)\n",
    "\n",
    "plt.legend()\n",
    "plt.savefig(\"Five 1 FI Queues\")"
   ]
  },
  {
   "cell_type": "markdown",
   "metadata": {},
   "source": [
    "Five5"
   ]
  },
  {
   "cell_type": "code",
   "execution_count": null,
   "metadata": {},
   "outputs": [],
   "source": [
    "plt.figure(6,figsize=(16, 9))\n",
    "\n",
    "plt.plot(FIQueues['Time'],FIQueues['Transfert50'],linewidth=2.0, label = 'West' )\n",
    "plt.plot(FIQueues['Time'],FIQueues['Transfert51'],linewidth=2.0, label = 'South' )\n",
    "plt.plot(FIQueues['Time'],FIQueues['Transfert52'],linewidth=2.0, label = 'East' )\n",
    "plt.plot(FIQueues['Time'],FIQueues['Transfert53'],linewidth=2.0, label = 'North' )\n",
    "#plt.plot(SCScumulative_stop_delay['Time'],SCTcumulative_stop_delay['Cyclic Stop Delay'],linewidth=3.0, label = 'Cyclic' )\n",
    "\n",
    "\n",
    "plt.rc('xtick',labelsize=15)\n",
    "plt.rc('ytick',labelsize=15)\n",
    "plt.xlabel('Time [s]',fontsize=18)\n",
    "plt.ylabel('Queues lenght [m]',fontsize=18)\n",
    "plt.title('Five 5 Queues over time',fontsize=18)\n",
    "\n",
    "plt.legend()\n",
    "plt.savefig(\"Five5 FI Queues\")"
   ]
  },
  {
   "cell_type": "code",
   "execution_count": null,
   "metadata": {},
   "outputs": [],
   "source": []
  }
 ],
 "metadata": {
  "kernelspec": {
   "display_name": "Python 3",
   "language": "python",
   "name": "python3"
  },
  "language_info": {
   "codemirror_mode": {
    "name": "ipython",
    "version": 3
   },
   "file_extension": ".py",
   "mimetype": "text/x-python",
   "name": "python",
   "nbconvert_exporter": "python",
   "pygments_lexer": "ipython3",
   "version": "3.8.2"
  }
 },
 "nbformat": 4,
 "nbformat_minor": 2
}
